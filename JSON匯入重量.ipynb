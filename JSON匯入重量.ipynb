{
 "cells": [
  {
   "cell_type": "code",
   "execution_count": null,
   "metadata": {
    "id": "YjSH7NU9008A"
   },
   "outputs": [],
   "source": [
    "import openpyxl as op\n",
    "import re\n",
    "import json\n",
    "forger = []#鑄造員工陣列\n",
    "weightexcel = op.load_workbook('')#導入重量"
   ]
  },
  {
   "cell_type": "code",
   "execution_count": null,
   "metadata": {},
   "outputs": [],
   "source": [
    "for h in range(12,0,-1):\n",
    "    for guy in forger:\n",
    "        try:\n",
    "            weightjson = open('', 'r')#按月與人抓取JSON\n",
    "            readweightjson = weightjson.read()\n",
    "            extractableweightjson = json.loads(readweightjson)\n",
    "            for serialnumber in extractableweightjson:\n",
    "                print(serialnumber)\n",
    "                print(extractableweightjson[serialnumber])\n",
    "            for i in range(1, len(weightexcel.worksheets[-1]['B'])+1):\n",
    "                for serialnumber in extractableweightjson:\n",
    "                    if serialnumber == weightexcel.worksheets[-1]['D'+str(i)].value and weightexcel.worksheets[-1]['F'+str(i)].value == None:\n",
    "                        if weightexcel.worksheets[-1]['F'+str(i)].value == None:\n",
    "                            weightexcel.worksheets[-1]['F'+str(i)].value = extractableweightjson[serialnumber]\n",
    "        except:#檔案不存在則跳過\n",
    "            continue"
   ]
  },
  {
   "cell_type": "code",
   "execution_count": null,
   "metadata": {},
   "outputs": [],
   "source": [
    "weightexcel.save('')#存檔"
   ]
  }
 ],
 "metadata": {
  "colab": {
   "authorship_tag": "ABX9TyOtsk5feM49znEYW8rOTs8p",
   "collapsed_sections": [],
   "provenance": []
  },
  "kernelspec": {
   "display_name": "Python 3 (ipykernel)",
   "language": "python",
   "name": "python3"
  },
  "language_info": {
   "codemirror_mode": {
    "name": "ipython",
    "version": 3
   },
   "file_extension": ".py",
   "mimetype": "text/x-python",
   "name": "python",
   "nbconvert_exporter": "python",
   "pygments_lexer": "ipython3",
   "version": "3.9.12"
  }
 },
 "nbformat": 4,
 "nbformat_minor": 1
}
