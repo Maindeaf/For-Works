{
 "cells": [
  {
   "cell_type": "code",
   "execution_count": null,
   "metadata": {
    "id": "W2DWAMXfr9t9",
    "scrolled": false
   },
   "outputs": [],
   "source": [
    "#導入所需工具以及設立變數\n",
    "import openpyxl as op\n",
    "from collections import OrderedDict\n",
    "gg = op.load_workbook('')\n",
    "BOMLIST = []"
   ]
  },
  {
   "cell_type": "code",
   "execution_count": null,
   "metadata": {
    "id": "WxVg1wQeQRfv",
    "outputId": "d05c7bd8-580a-4fa8-92ea-6501864eea83"
   },
   "outputs": [],
   "source": [
    "#印出需搜尋的品項\n",
    "for i in range(5,len(gg.worksheets[0]['G'])+1):\n",
    "    if gg.worksheets[0]['G'+str(i)].value != None:\n",
    "        BOMLIST.append(gg.worksheets[0]['G'+str(i)].value)\n",
    "orderedBOMLIST = list(OrderedDict.fromkeys(BOMLIST))\n",
    "for item in orderedBOMLIST:\n",
    "    print(\"(BOMME.ME001 = N'\"+item+\"')\")"
   ]
  },
  {
   "cell_type": "code",
   "execution_count": null,
   "metadata": {
    "scrolled": true
   },
   "outputs": [],
   "source": [
    "#設立第二張EXCEL\n",
    "g2 = op.load_workbook('')\n",
    "BOMLIST2 = []"
   ]
  },
  {
   "cell_type": "code",
   "execution_count": null,
   "metadata": {},
   "outputs": [],
   "source": [
    "#印出需搜尋的品項\n",
    "for i in range(5,len(g2.worksheets[0]['G'])+1):\n",
    "    if g2.worksheets[0]['G'+str(i)].value != None:\n",
    "        BOMLIST2.append(g2.worksheets[0]['G'+str(i)].value)\n",
    "orderedBOMLIST2 = list(OrderedDict.fromkeys(BOMLIST2))\n",
    "for item in orderedBOMLIST:\n",
    "    print(\"(BOMME.ME001 = N'\"+item+\"')\")"
   ]
  },
  {
   "cell_type": "code",
   "execution_count": null,
   "metadata": {},
   "outputs": [],
   "source": [
    "#印出兩張EXCEL差值\n",
    "set1 = set(orderedBOMLIST)\n",
    "set2 = set(orderedBOMLIST2)\n",
    "print(set2 - set1)"
   ]
  }
 ],
 "metadata": {
  "colab": {
   "collapsed_sections": [],
   "provenance": []
  },
  "kernelspec": {
   "display_name": "Python 3 (ipykernel)",
   "language": "python",
   "name": "python3"
  },
  "language_info": {
   "codemirror_mode": {
    "name": "ipython",
    "version": 3
   },
   "file_extension": ".py",
   "mimetype": "text/x-python",
   "name": "python",
   "nbconvert_exporter": "python",
   "pygments_lexer": "ipython3",
   "version": "3.9.12"
  }
 },
 "nbformat": 4,
 "nbformat_minor": 1
}
