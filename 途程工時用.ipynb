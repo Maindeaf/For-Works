{
 "cells": [
  {
   "cell_type": "code",
   "execution_count": 52,
   "id": "1cf1bf67",
   "metadata": {},
   "outputs": [],
   "source": [
    "import openpyxl as op#匯入所需工具\n",
    "import xlrd as xl\n",
    "import os\n",
    "import re\n",
    "import math\n",
    "from openpyxl.styles import Font\n",
    "from openpyxl.styles import PatternFill\n",
    "from openpyxl.styles import Alignment\n",
    "from openpyxl.styles import Border,Side\n",
    "from datetime import timedelta"
   ]
  },
  {
   "cell_type": "code",
   "execution_count": 53,
   "id": "f8076a39",
   "metadata": {},
   "outputs": [],
   "source": [
    "#建立所需方法\n",
    "def convert(seconds):\n",
    "    hour = seconds // 3600\n",
    "    seconds %= 3600\n",
    "    minutes = seconds // 60\n",
    "    seconds %= 60\n",
    "    return \"%04d:%02d:%02d\" % (hour, minutes, seconds)\n",
    "def splittime(time):\n",
    "    timesplitlist = []\n",
    "    timesplitlist = re.split(':', time)\n",
    "    seconds = timedelta(hours = int(timesplitlist[0]),\n",
    "              minutes = int(timesplitlist[1]),\n",
    "              seconds = int(timesplitlist[2])).total_seconds()\n",
    "    return seconds"
   ]
  },
  {
   "cell_type": "code",
   "execution_count": 54,
   "id": "0e05b44a",
   "metadata": {},
   "outputs": [],
   "source": [
    "gg = op.load_workbook('')"
   ]
  },
  {
   "cell_type": "code",
   "execution_count": 55,
   "id": "344a6b18",
   "metadata": {},
   "outputs": [],
   "source": [
    "gg.worksheets[0].delete_cols(1,4)\n",
    "gg.worksheets[0].delete_cols(2)\n",
    "gg.worksheets[0].delete_cols(4,3)\n",
    "gg.worksheets[0].delete_cols(6,2)\n",
    "gg.worksheets[0].delete_cols(8)\n",
    "gg.worksheets[0].delete_cols(9,5)\n",
    "gg.worksheets[0].delete_cols(11,2)\n",
    "gg.worksheets[0]['K4'].value = \"平均人時\"\n",
    "gg.worksheets[0]['L4'].value = \"平均機時\""
   ]
  },
  {
   "cell_type": "code",
   "execution_count": 56,
   "id": "25940409",
   "metadata": {},
   "outputs": [],
   "source": [
    "#人時機時數量計算\n",
    "for i in range(5,len(gg.worksheets[0]['B'])+1):\n",
    "    if gg.worksheets[0]['I'+str(i)].value != None:\n",
    "        if gg.worksheets[0]['H'+str(i)].value != 0: \n",
    "            gg.worksheets[0]['K'+str(i)].value = convert(math.ceil(splittime(gg.worksheets[0]['I'+str(i)].value))/gg.worksheets[0]['H'+str(i)].value)\n",
    "        else:\n",
    "            continue\n",
    "    if gg.worksheets[0]['J'+str(i)].value != None:\n",
    "        if gg.worksheets[0]['H'+str(i)].value != 0: \n",
    "            gg.worksheets[0]['L'+str(i)].value = convert(math.ceil(splittime(gg.worksheets[0]['J'+str(i)].value))/gg.worksheets[0]['H'+str(i)].value)\n",
    "        else:\n",
    "            continue"
   ]
  },
  {
   "cell_type": "code",
   "execution_count": 57,
   "id": "eb693cf4",
   "metadata": {},
   "outputs": [],
   "source": [
    "gg.save('')"
   ]
  },
  {
   "cell_type": "code",
   "execution_count": null,
   "id": "c10249be",
   "metadata": {},
   "outputs": [],
   "source": []
  }
 ],
 "metadata": {
  "kernelspec": {
   "display_name": "Python 3 (ipykernel)",
   "language": "python",
   "name": "python3"
  },
  "language_info": {
   "codemirror_mode": {
    "name": "ipython",
    "version": 3
   },
   "file_extension": ".py",
   "mimetype": "text/x-python",
   "name": "python",
   "nbconvert_exporter": "python",
   "pygments_lexer": "ipython3",
   "version": "3.9.12"
  }
 },
 "nbformat": 4,
 "nbformat_minor": 5
}
