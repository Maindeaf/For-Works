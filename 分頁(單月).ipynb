{
 "cells": [
  {
   "cell_type": "code",
   "execution_count": null,
   "id": "d7fe4e68",
   "metadata": {
    "id": "d7fe4e68",
    "scrolled": true
   },
   "outputs": [],
   "source": [
    "#導入需要工具\n",
    "import openpyxl as op\n",
    "import re\n",
    "from collections import OrderedDict\n",
    "from openpyxl.styles import Font\n",
    "from openpyxl.styles import PatternFill\n",
    "from openpyxl.styles import Alignment\n",
    "from openpyxl.styles import Border,Side\n",
    "from datetime import date\n",
    "from datetime import timedelta\n",
    "gg = op.load_workbook(\"C:\\\\Users\\\\P207\\\\Desktop\\\\1101-1130(第四次).xlsx\")"
   ]
  },
  {
   "cell_type": "code",
   "execution_count": null,
   "id": "57d735cd",
   "metadata": {},
   "outputs": [],
   "source": [
    "#建立所需方法\n",
    "def convert(seconds):\n",
    "    hour = seconds // 3600\n",
    "    seconds %= 3600\n",
    "    minutes = seconds // 60\n",
    "    seconds %= 60\n",
    "    return \"%04d:%02d:%02d\" % (hour, minutes, seconds)\n",
    "def splittime(time):\n",
    "    timesplitlist = []\n",
    "    timesplitlist = re.split(':', time)\n",
    "    seconds = timedelta(hours = int(timesplitlist[0]),\n",
    "              minutes = int(timesplitlist[1]),\n",
    "              seconds = int(timesplitlist[2])).total_seconds()\n",
    "    return seconds"
   ]
  },
  {
   "cell_type": "code",
   "execution_count": null,
   "id": "7778cae6",
   "metadata": {
    "id": "7778cae6",
    "outputId": "4d03483f-bb31-47e6-a331-e2c6d1a9be3b"
   },
   "outputs": [],
   "source": [
    "#獲取員工陣列\n",
    "rawstafflist=[]\n",
    "for i in range(5,len(gg.worksheets[0]['K'])+1):\n",
    "    if gg.worksheets[0]['K'+str(i)].value != None:\n",
    "        rawstafflist.append(str(gg.worksheets[0]['K'+str(i)].value)+'-'+gg.worksheets[0]['L'+str(i)].value)\n",
    "staff = list(OrderedDict.fromkeys(rawstafflist))\n",
    "staff.sort()\n",
    "specialstaff = []\n",
    "for guy in staff:\n",
    "    if re.match(r'\\d{3}-', guy) != None:\n",
    "        specialstaff.append(guy)\n",
    "        staff.remove(guy)\n",
    "print(staff)\n",
    "print(specialstaff)"
   ]
  },
  {
   "cell_type": "code",
   "execution_count": null,
   "id": "xdC_G5FIpvsx",
   "metadata": {
    "id": "xdC_G5FIpvsx"
   },
   "outputs": [],
   "source": [
    "#設定新工作表格式\n",
    "V3V5V9border = Border(left=Side(border_style='thick',color='000000'),\n",
    "                      right=Side(border_style='thin',color='000000'),\n",
    "                      top=Side(border_style='thick',color='000000'),\n",
    "                      bottom=Side(border_style='thin',color='000000'))\n",
    "V4V8V12border = Border(left=Side(border_style='thick',color='000000'),\n",
    "                       right=Side(border_style='thin',color='000000'),\n",
    "                       top=Side(border_style='thin',color='000000'),\n",
    "                       bottom=Side(border_style='thick',color='000000'))\n",
    "V6V10border = Border(left=Side(border_style='thick',color='000000'),\n",
    "                     right=Side(border_style='thin',color='000000'),\n",
    "                     top=Side(border_style='thin',color='000000'),\n",
    "                     bottom=Side(border_style='thin',color='000000'))\n",
    "V7V11border = Border(left=Side(border_style='thick',color='000000'),\n",
    "                     right=Side(border_style='thin',color='000000'),\n",
    "                     top=Side(border_style='thin',color='000000'),\n",
    "                     bottom=Side(border_style='thin',color='000000'))\n",
    "W3W5W9border = Border(left=Side(border_style='thin',color='000000'),\n",
    "                      right=Side(border_style='thick',color='000000'),\n",
    "                      top=Side(border_style='thick',color='000000'),\n",
    "                      bottom=Side(border_style='thin',color='000000'))\n",
    "W4W8W12border = Border(left=Side(border_style='thin',color='000000'),\n",
    "                       right=Side(border_style='thick',color='000000'),\n",
    "                       top=Side(border_style='thin',color='000000'),\n",
    "                       bottom=Side(border_style='thick',color='000000'))\n",
    "W6W10border = Border(left=Side(border_style='thin',color='000000'),\n",
    "                     right=Side(border_style='thick',color='000000'),\n",
    "                     top=Side(border_style='thin',color='000000'),\n",
    "                     bottom=Side(border_style='thin',color='000000'))\n",
    "W7W11border = Border(left=Side(border_style='thin',color='000000'),\n",
    "                     right=Side(border_style='thick',color='000000'),\n",
    "                     top=Side(border_style='thin',color='000000'),\n",
    "                     bottom=Side(border_style='thin',color='000000'))\n",
    "allthinborder = Border(left=Side(border_style='thin',color='000000'),\n",
    "                       right=Side(border_style='thin',color='000000'),\n",
    "                       top=Side(border_style='thin',color='000000'),\n",
    "                       bottom=Side(border_style='thin',color='000000'))\n",
    "red14font = Font(name = \"新細明體\", size=14, bold = False ,color = \"FF0000\")\n",
    "black14font = Font(name = \"新細明體\", size=14, bold = False ,color = \"000000\")\n",
    "black18boldfont = Font(name = \"新細明體\", size=18, bold = True ,color = \"000000\")\n",
    "redtitlefont = Font(name = \"新細明體\", size=8, bold = True ,color = \"FF0000\")\n",
    "blacktitlefont = Font(name = \"新細明體\", size=10, bold = True ,color = \"000000\")\n",
    "redfont = Font(name = \"新細明體\", size=10, bold = False ,color = \"FF0000\")\n",
    "grayfill = PatternFill(fill_type = 'solid',start_color='D9D9D9',end_color='D9D9D9')\n",
    "leftsidealignment = Alignment(horizontal='left',vertical='center',wrap_text=False)\n",
    "rightsidealignment = Alignment(horizontal='center',vertical='center',wrap_text=False)\n",
    "centered = Alignment(horizontal='center',vertical='center',wrap_text=True)"
   ]
  },
  {
   "cell_type": "code",
   "execution_count": null,
   "id": "b9f278a3",
   "metadata": {
    "id": "b9f278a3",
    "scrolled": false
   },
   "outputs": [],
   "source": [
    "#按員工名創建新工作表\n",
    "for h in range(0,len(specialstaff)):\n",
    "    gg.create_sheet(specialstaff[h],h+1)\n",
    "for i in range(0,len(staff)):\n",
    "    gg.create_sheet(staff[i],i+1)"
   ]
  },
  {
   "cell_type": "code",
   "execution_count": null,
   "id": "67e488da",
   "metadata": {
    "id": "67e488da"
   },
   "outputs": [],
   "source": [
    "#每個工作表加入標題列\n",
    "today = date.today().month\n",
    "for i in range(1,len(gg.worksheets)):\n",
    "    gg.worksheets[i]['B1'].value = '馨蓮企業有限公司-生產工時明細表'\n",
    "    if today > 1: \n",
    "        gg.worksheets[i]['T1'].value = str(today-1)+'月份'\n",
    "    if today == 1:\n",
    "        gg.worksheets[i]['T1'].value = str(today+11)+'月份'\n",
    "    gg.worksheets[i]['B1'].font = black18boldfont\n",
    "    gg.worksheets[i]['T1'].font = black18boldfont\n",
    "    gg.worksheets[i].column_dimensions['B'].width = 22.7109375\n",
    "    gg.worksheets[i].column_dimensions['C'].width = 17.7109375\n",
    "    gg.worksheets[i].column_dimensions['D'].width = 29.7109375\n",
    "    gg.worksheets[i].column_dimensions['E'].width = 5.7109375\n",
    "    gg.worksheets[i].column_dimensions['F'].width = 8.7109375\n",
    "    gg.worksheets[i].column_dimensions['G'].width = 5.7109375\n",
    "    gg.worksheets[i].column_dimensions['H'].width = 21.7109375\n",
    "    gg.worksheets[i].column_dimensions['I'].width = 6.7109375\n",
    "    gg.worksheets[i].column_dimensions['J'].width = 4.7109375\n",
    "    gg.worksheets[i].column_dimensions['K'].width = 7.7109375\n",
    "    gg.worksheets[i].column_dimensions['L'].width = 6.7109375\n",
    "    gg.worksheets[i].column_dimensions['M'].width = 8.7109375\n",
    "    gg.worksheets[i].column_dimensions['N'].width = 13.0\n",
    "    gg.worksheets[i].column_dimensions['O'].width = 8.7109375\n",
    "    gg.worksheets[i].column_dimensions['P'].width = 13.0\n",
    "    gg.worksheets[i].column_dimensions['Q'].width = 13.0\n",
    "    gg.worksheets[i].column_dimensions['R'].width = 13.0\n",
    "    gg.worksheets[i].column_dimensions['S'].width = 9.7109375\n",
    "    gg.worksheets[i].column_dimensions['T'].width = 10.7109375\n",
    "    gg.worksheets[i].column_dimensions['U'].width = 9.140625\n",
    "    gg.worksheets[i].row_dimensions[2].height = 45.0\n",
    "    gg.worksheets[i].column_dimensions['A'].hidden= True\n",
    "    gg.worksheets[i].merge_cells('B1:S1')\n",
    "    gg.worksheets[i]['B1'].alignment = centered\n",
    "    gg.worksheets[i]['T1'].alignment = centered\n",
    "    for j in range(1,21):\n",
    "        gg.worksheets[i].cell(2,j).value = gg.worksheets[0].cell(4,j).value\n",
    "        gg.worksheets[i].cell(2,j).alignment = centered\n",
    "        gg.worksheets[i].cell(2,j).fill = grayfill\n",
    "        gg.worksheets[i].cell(2,j).border = allthinborder\n",
    "        gg.worksheets[i].cell(2,j).font = blacktitlefont\n",
    "        if j >= 15 and j <= 19:\n",
    "            gg.worksheets[i].cell(2,j).font = redtitlefont"
   ]
  },
  {
   "cell_type": "code",
   "execution_count": null,
   "id": "SpHOOmapsV_j",
   "metadata": {
    "id": "SpHOOmapsV_j"
   },
   "outputs": [],
   "source": [
    "#改正新工作表格式\n",
    "for staffsheets in range(1,len(gg.worksheets)):\n",
    "    gg.worksheets[staffsheets]['V3'].value = '總數量'\n",
    "    gg.worksheets[staffsheets]['V3'].font = black14font\n",
    "    gg.worksheets[staffsheets]['V3'].fill = grayfill\n",
    "    gg.worksheets[staffsheets]['V3'].alignment = leftsidealignment\n",
    "    gg.worksheets[staffsheets]['V3'].border = V3V5V9border\n",
    "    gg.worksheets[staffsheets]['V4'].border = V4V8V12border\n",
    "    gg.worksheets[staffsheets]['V5'].value = '總人時 - 報工'\n",
    "    gg.worksheets[staffsheets]['V5'].font = black14font\n",
    "    gg.worksheets[staffsheets]['V5'].fill = grayfill\n",
    "    gg.worksheets[staffsheets]['V5'].alignment = leftsidealignment    \n",
    "    gg.worksheets[staffsheets]['V5'].border = V3V5V9border\n",
    "    gg.worksheets[staffsheets]['V6'].border = V6V10border\n",
    "    gg.worksheets[staffsheets]['V7'].value = '總人時 - 平均(不含特殊)'\n",
    "    gg.worksheets[staffsheets]['V7'].font = red14font\n",
    "    gg.worksheets[staffsheets]['V7'].fill = grayfill\n",
    "    gg.worksheets[staffsheets]['V7'].alignment = leftsidealignment\n",
    "    gg.worksheets[staffsheets]['V7'].border = V7V11border\n",
    "    gg.worksheets[staffsheets]['V8'].border = V4V8V12border\n",
    "    gg.worksheets[staffsheets]['V9'].value = '總機時 - 報工'\n",
    "    gg.worksheets[staffsheets]['V9'].font = black14font\n",
    "    gg.worksheets[staffsheets]['V9'].fill = grayfill\n",
    "    gg.worksheets[staffsheets]['V9'].alignment = leftsidealignment\n",
    "    gg.worksheets[staffsheets]['V9'].border = V3V5V9border\n",
    "    gg.worksheets[staffsheets]['V10'].border = V6V10border\n",
    "    gg.worksheets[staffsheets]['V11'].value = '總機時 - 平均(不含特殊)'\n",
    "    gg.worksheets[staffsheets]['V11'].font = red14font\n",
    "    gg.worksheets[staffsheets]['V11'].fill = grayfill\n",
    "    gg.worksheets[staffsheets]['V11'].alignment = leftsidealignment\n",
    "    gg.worksheets[staffsheets]['V11'].border = V7V11border\n",
    "    gg.worksheets[staffsheets]['V12'].border = V4V8V12border\n",
    "    gg.worksheets[staffsheets]['W3'].alignment = rightsidealignment\n",
    "    gg.worksheets[staffsheets]['W3'].font = black14font\n",
    "    gg.worksheets[staffsheets]['W3'].border = W3W5W9border\n",
    "    gg.worksheets[staffsheets]['W4'].border = W4W8W12border\n",
    "    gg.worksheets[staffsheets]['W5'].alignment = rightsidealignment\n",
    "    gg.worksheets[staffsheets]['W5'].font = black14font\n",
    "    gg.worksheets[staffsheets]['W5'].border = W3W5W9border\n",
    "    gg.worksheets[staffsheets]['W6'].border = W6W10border\n",
    "    gg.worksheets[staffsheets]['W7'].alignment = rightsidealignment\n",
    "    gg.worksheets[staffsheets]['W7'].font = black14font\n",
    "    gg.worksheets[staffsheets]['W7'].border = W7W11border\n",
    "    gg.worksheets[staffsheets]['W8'].border = W4W8W12border\n",
    "    gg.worksheets[staffsheets]['W9'].alignment = rightsidealignment\n",
    "    gg.worksheets[staffsheets]['W9'].font = black14font\n",
    "    gg.worksheets[staffsheets]['W9'].border = W3W5W9border\n",
    "    gg.worksheets[staffsheets]['W10'].border = W6W10border\n",
    "    gg.worksheets[staffsheets]['W11'].alignment = rightsidealignment\n",
    "    gg.worksheets[staffsheets]['W11'].font = black14font\n",
    "    gg.worksheets[staffsheets]['W11'].border = W7W11border\n",
    "    gg.worksheets[staffsheets]['W12'].border = W4W8W12border\n",
    "    gg.worksheets[staffsheets].column_dimensions['V'].width = 32\n",
    "    gg.worksheets[staffsheets].column_dimensions['W'].width = 30\n",
    "    gg.worksheets[staffsheets].merge_cells('V3:V4')\n",
    "    gg.worksheets[staffsheets].merge_cells('V5:V6')\n",
    "    gg.worksheets[staffsheets].merge_cells('V7:V8')\n",
    "    gg.worksheets[staffsheets].merge_cells('V9:V10')\n",
    "    gg.worksheets[staffsheets].merge_cells('V11:V12')\n",
    "    gg.worksheets[staffsheets].merge_cells('W3:W4')\n",
    "    gg.worksheets[staffsheets].merge_cells('W5:W6')\n",
    "    gg.worksheets[staffsheets].merge_cells('W7:W8')\n",
    "    gg.worksheets[staffsheets].merge_cells('W9:W10')\n",
    "    gg.worksheets[staffsheets].merge_cells('W11:W12')\n",
    "    gg.worksheets[staffsheets]['V12'].border = V4V8V12border\n",
    "    gg.worksheets[staffsheets]['W12'].border = W4W8W12border"
   ]
  },
  {
   "cell_type": "code",
   "execution_count": null,
   "id": "6cb788a8",
   "metadata": {
    "id": "6cb788a8"
   },
   "outputs": [],
   "source": [
    "#將數據導入新工作表\n",
    "for a in range(1,len(staff)+1):\n",
    "    rowcount = 2\n",
    "    for b in range(4,len(gg.worksheets[0]['L'])+1):\n",
    "        if re.search(gg.worksheets[0]['L'+str(b)].value, gg.worksheets[a].title) != None:\n",
    "            rowcount=rowcount+1\n",
    "            for c in range(1,21):\n",
    "                gg.worksheets[a].cell(rowcount,c).value = gg.worksheets[0].cell(b,c).value\n",
    "                gg.worksheets[a].cell(rowcount,c).alignment = centered\n",
    "                gg.worksheets[a].cell(rowcount,c).border = allthinborder\n",
    "for d in range(len(staff),(len(staff)+len(specialstaff)+1)):\n",
    "    srowcount = 2\n",
    "    for e in range(4,len(gg.worksheets[0]['L'])+1):\n",
    "        if re.search(gg.worksheets[0]['L'+str(e)].value, gg.worksheets[d].title) != None:\n",
    "            srowcount=srowcount+1\n",
    "            for f in range(1,21):\n",
    "                gg.worksheets[d].cell(srowcount,f).value = gg.worksheets[0].cell(e,f).value\n",
    "                gg.worksheets[d].cell(srowcount,f).alignment = centered\n",
    "                gg.worksheets[d].cell(srowcount,f).border = allthinborder"
   ]
  },
  {
   "cell_type": "code",
   "execution_count": null,
   "id": "84366dd7",
   "metadata": {
    "id": "84366dd7",
    "scrolled": false
   },
   "outputs": [],
   "source": [
    "#更改新工作表正負差顏色\n",
    "for a in range(1,len(gg.worksheets)):\n",
    "    for b in range(3,len(gg.worksheets[a]['L'])+1):\n",
    "        if gg.worksheets[a]['S'+str(b)].value != None:\n",
    "            if re.search(r\"\\d\",str(gg.worksheets[a]['S'+str(b)].value)) != None:\n",
    "                if int(splittime(gg.worksheets[a]['M'+str(b)].value)) > int(splittime(gg.worksheets[a]['Q'+str(b)].value)):\n",
    "                    gg.worksheets[a]['S'+str(b)].font = redfont"
   ]
  },
  {
   "cell_type": "code",
   "execution_count": null,
   "id": "cVny93MPAPpA",
   "metadata": {
    "id": "cVny93MPAPpA"
   },
   "outputs": [],
   "source": [
    "#填入W列數據\n",
    "for a in range(1,len(gg.worksheets)):\n",
    "    gg.worksheets[a]['W3'].value = 0\n",
    "    gg.worksheets[a]['W5'].value = 0\n",
    "    gg.worksheets[a]['W7'].value = 0\n",
    "    gg.worksheets[a]['W9'].value = 0\n",
    "    gg.worksheets[a]['W11'].value = 0\n",
    "    for b in range(3,len(gg.worksheets[a]['M'])+1):\n",
    "        if gg.worksheets[a]['I'+str(b)].value != None:\n",
    "            gg.worksheets[a]['W3'].value += gg.worksheets[a]['I'+str(b)].value\n",
    "        if gg.worksheets[a]['M'+str(b)].value != None:\n",
    "            gg.worksheets[a]['W5'].value += splittime(gg.worksheets[a]['M'+str(b)].value)\n",
    "        if gg.worksheets[a]['Q'+str(b)].value != None and re.search(r'\\d',gg.worksheets[a]['Q'+str(b)].value) != None:\n",
    "            gg.worksheets[a]['W7'].value += splittime(gg.worksheets[a]['Q'+str(b)].value)\n",
    "        if gg.worksheets[a]['M'+str(b)].value != None:\n",
    "            gg.worksheets[a]['W9'].value += splittime(gg.worksheets[a]['N'+str(b)].value)\n",
    "        if gg.worksheets[a]['R'+str(b)].value != None and re.search(r'\\d',gg.worksheets[a]['R'+str(b)].value) != None:\n",
    "            gg.worksheets[a]['W11'].value += splittime(gg.worksheets[a]['R'+str(b)].value)\n",
    "    gg.worksheets[a]['W5'].value = convert(gg.worksheets[a]['W5'].value)\n",
    "    gg.worksheets[a]['W7'].value = convert(gg.worksheets[a]['W7'].value)\n",
    "    gg.worksheets[a]['W9'].value = convert(gg.worksheets[a]['W9'].value)\n",
    "    gg.worksheets[a]['W11'].value = convert(gg.worksheets[a]['W11'].value)"
   ]
  },
  {
   "cell_type": "code",
   "execution_count": null,
   "id": "ff595081",
   "metadata": {
    "id": "ff595081",
    "scrolled": true
   },
   "outputs": [],
   "source": [
    "#存檔\n",
    "gg.save(\"C:\\\\Users\\\\P207\\\\Desktop\\\\1.xlsx\")"
   ]
  },
  {
   "cell_type": "code",
   "execution_count": null,
   "id": "13023988",
   "metadata": {
    "id": "13023988"
   },
   "outputs": [],
   "source": []
  }
 ],
 "metadata": {
  "colab": {
   "collapsed_sections": [],
   "provenance": []
  },
  "kernelspec": {
   "display_name": "Python 3 (ipykernel)",
   "language": "python",
   "name": "python3"
  },
  "language_info": {
   "codemirror_mode": {
    "name": "ipython",
    "version": 3
   },
   "file_extension": ".py",
   "mimetype": "text/x-python",
   "name": "python",
   "nbconvert_exporter": "python",
   "pygments_lexer": "ipython3",
   "version": "3.9.12"
  }
 },
 "nbformat": 4,
 "nbformat_minor": 5
}
