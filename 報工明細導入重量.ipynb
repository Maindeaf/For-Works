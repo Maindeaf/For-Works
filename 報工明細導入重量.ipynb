{
 "cells": [
  {
   "cell_type": "code",
   "execution_count": null,
   "id": "feb823b9",
   "metadata": {},
   "outputs": [],
   "source": [
    "#導入需要工具\n",
    "import openpyxl as op\n",
    "import re\n",
    "currentmonth = op.load_workbook(\"\")#導入此月重量表\n",
    "gg = op.load_workbook(\"\")#導入報工明細\n",
    "forge = '澆鑄'"
   ]
  },
  {
   "cell_type": "code",
   "execution_count": null,
   "id": "19600692",
   "metadata": {},
   "outputs": [],
   "source": [
    "for i in range(1,len(currentmonth.worksheets[-1]['B'])+1):\n",
    "    if currentmonth.worksheets[-1]['B'+str(i)].value != None and re.search(r'\\d{3}-\\d{11}', str(currentmonth.worksheets[-1]['B'+str(i)].value)) != None:\n",
    "        for j in range(1, len(gg.worksheets[-1]['B'])+1):\n",
    "                if currentmonth.worksheets[-1]['D'+str(i)].value == None:\n",
    "                    if gg.worksheets[-1]['E'+str(j)].value != None:\n",
    "                        if currentmonth.worksheets[-1]['B'+str(i)].value == gg.worksheets[-1]['E'+str(j)].value[0:15]:\n",
    "                            print(i,j)\n",
    "                            currentmonth.worksheets[-1]['D'+str(i)].value = gg.worksheets[-1]['G'+str(j)].value\n",
    "                            if forge in gg.worksheets[-1]['Q'+str(j)].value:\n",
    "                                currentmonth.worksheets[-1]['H'+str(i)].value = gg.worksheets[-1]['C'+str(j)].value[0:4]+gg.worksheets[-1]['C'+str(j)].value[5:7]+gg.worksheets[-1]['C'+str(j)].value[8:11]"
   ]
  },
  {
   "cell_type": "code",
   "execution_count": null,
   "id": "43fd80bb",
   "metadata": {},
   "outputs": [],
   "source": [
    "currentmonth.save('')"
   ]
  },
  {
   "cell_type": "code",
   "execution_count": null,
   "id": "977c360f",
   "metadata": {},
   "outputs": [],
   "source": []
  }
 ],
 "metadata": {
  "kernelspec": {
   "display_name": "Python 3 (ipykernel)",
   "language": "python",
   "name": "python3"
  },
  "language_info": {
   "codemirror_mode": {
    "name": "ipython",
    "version": 3
   },
   "file_extension": ".py",
   "mimetype": "text/x-python",
   "name": "python",
   "nbconvert_exporter": "python",
   "pygments_lexer": "ipython3",
   "version": "3.9.12"
  }
 },
 "nbformat": 4,
 "nbformat_minor": 5
}
