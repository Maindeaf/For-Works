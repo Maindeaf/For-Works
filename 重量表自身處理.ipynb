{
 "cells": [
  {
   "cell_type": "code",
   "execution_count": null,
   "id": "d7fe4e68",
   "metadata": {
    "id": "d7fe4e68",
    "scrolled": true
   },
   "outputs": [],
   "source": [
    "#導入需要工具\n",
    "import openpyxl as op\n",
    "import re\n",
    "currentmonth = op.load_workbook(\"\")#導入此月重量表\n",
    "lastmonth = op.load_workbook(\"\")#導入上個月重量表\n",
    "scrapped = \"鑄造不良\""
   ]
  },
  {
   "cell_type": "code",
   "execution_count": null,
   "id": "537dac25",
   "metadata": {},
   "outputs": [],
   "source": [
    "#填入所需數值及函數\n",
    "for i in range(1,len(currentmonth.worksheets[-1]['B'])+1):\n",
    "    if currentmonth.worksheets[-1]['B'+str(i)].value != None and re.search(r'\\d{3}-\\d{11}', str(currentmonth.worksheets[-1]['B'+str(i)].value)) != None:\n",
    "        currentmonth.worksheets[-1]['C'+str(i)].value = '=MID(D'+str(i)+',4,6)'\n",
    "        currentmonth.worksheets[-1]['G'+str(i)].value = '=F'+str(i)+'*E'+str(i)"
   ]
  },
  {
   "cell_type": "code",
   "execution_count": null,
   "id": "97a0a7da",
   "metadata": {
    "scrolled": true
   },
   "outputs": [],
   "source": [
    "#自己工作表數據導入\n",
    "for name in range(0,len(currentmonth.worksheets)):\n",
    "    for tracedname in range(1,len(currentmonth.worksheets[-1]['B'])+1):\n",
    "        if currentmonth.worksheets[-1]['B'+str(tracedname)].value == currentmonth.worksheets[name].title:\n",
    "            for i in range(1,len(currentmonth.worksheets[-1]['B'])+1):\n",
    "                for j in range(1,len(currentmonth.worksheets[name]['B'])+1):\n",
    "                    if  currentmonth.worksheets[name]['A'+str(j)].value != None and scrapped not in str(currentmonth.worksheets[name]['A'+str(j)].value):\n",
    "                        if re.search(r'\\d{3}-\\d{11}', str(currentmonth.worksheets[-1]['B'+str(i)].value)) != None and re.search(r'\\d{3}-\\d{11}', str(currentmonth.worksheets[name]['B'+str(j)].value)) != None and currentmonth.worksheets[name]['B'+str(j)].value == currentmonth.worksheets[-1]['B'+str(i)].value:\n",
    "                            currentmonth.worksheets[-1]['D'+str(i)].value = currentmonth.worksheets[name]['D'+str(j)].value\n",
    "                            currentmonth.worksheets[-1]['E'+str(i)].value = currentmonth.worksheets[name]['E'+str(j)].value\n",
    "                            currentmonth.worksheets[-1]['F'+str(i)].value = currentmonth.worksheets[name]['F'+str(j)].value\n",
    "                            currentmonth.worksheets[-1]['H'+str(i)].value = currentmonth.worksheets[name]['H'+str(j)].value\n",
    "                            currentmonth.worksheets[-1]['I'+str(i)].value = currentmonth.worksheets[name]['I'+str(j)].value\n",
    "                    if currentmonth.worksheets[name]['A'+str(j)].value != None and scrapped in str(currentmonth.worksheets[name]['A'+str(j)].value):\n",
    "                        break"
   ]
  },
  {
   "cell_type": "code",
   "execution_count": null,
   "id": "fcDhVPqxrFWE",
   "metadata": {
    "id": "fcDhVPqxrFWE"
   },
   "outputs": [],
   "source": [
    "#上個月工作表導入\n",
    "for i in range(1, (currentmonth.worksheets[-1].max_row)+1):\n",
    "    if re.search(r'\\d\\d\\d-\\d\\d\\d\\d\\d\\d\\d\\d\\d\\d\\d', str(currentmonth.worksheets[-1]['B'+str(i)].value)) != None and currentmonth.worksheets[-1]['D'+str(i)].value == None:\n",
    "        for j in range(1, (lastmonth.worksheets[-1].max_row)+1):\n",
    "            if currentmonth.worksheets[-1]['B'+str(i)].value == lastmonth.worksheets[-1]['B'+str(j)].value:\n",
    "                currentmonth.worksheets[-1]['D'+str(i)].value = lastmonth.worksheets[-1]['D'+str(j)].value\n",
    "                if currentmonth.worksheets[-1]['F'+str(i)].value == None:\n",
    "                    currentmonth.worksheets[-1]['F'+str(i)].value = lastmonth.worksheets[-1]['F'+str(j)].value\n",
    "                currentmonth.worksheets[-1]['H'+str(i)].value = lastmonth.worksheets[-1]['H'+str(j)].value\n",
    "                if currentmonth.worksheets[-1]['I'+str(i)].value == None:\n",
    "                    currentmonth.worksheets[-1]['I'+str(i)].value = lastmonth.worksheets[-1]['I'+str(j)].value"
   ]
  },
  {
   "cell_type": "code",
   "execution_count": null,
   "id": "ff595081",
   "metadata": {
    "id": "ff595081",
    "scrolled": true
   },
   "outputs": [],
   "source": [
    "currentmonth.save(\"\")"
   ]
  },
  {
   "cell_type": "code",
   "execution_count": null,
   "id": "13023988",
   "metadata": {
    "id": "13023988"
   },
   "outputs": [],
   "source": []
  }
 ],
 "metadata": {
  "colab": {
   "collapsed_sections": [],
   "provenance": []
  },
  "kernelspec": {
   "display_name": "Python 3 (ipykernel)",
   "language": "python",
   "name": "python3"
  },
  "language_info": {
   "codemirror_mode": {
    "name": "ipython",
    "version": 3
   },
   "file_extension": ".py",
   "mimetype": "text/x-python",
   "name": "python",
   "nbconvert_exporter": "python",
   "pygments_lexer": "ipython3",
   "version": "3.9.12"
  }
 },
 "nbformat": 4,
 "nbformat_minor": 5
}
