{
 "cells": [
  {
   "cell_type": "code",
   "execution_count": 1,
   "id": "d7fe4e68",
   "metadata": {
    "id": "d7fe4e68",
    "scrolled": true
   },
   "outputs": [],
   "source": [
    "#導入需要工具\n",
    "import openpyxl as op\n",
    "import re\n",
    "currentmonth = op.load_workbook(\"X:\\\\生管組\\\\1116 蔡武憲\\\\重量\\\\鑄造紀錄表-12.xlsx\")#導入此月重量表\n",
    "lastmonth = op.load_workbook(\"X:\\\\辦公室共用資料夾\\\\鑄造課重量\\\\111年\\\\鑄造紀錄表-11-1(json匯入測試).xlsx\")#導入上個月重量表\n",
    "scrapped = \"鑄造不良\""
   ]
  },
  {
   "cell_type": "code",
   "execution_count": 2,
   "id": "d0b93e90",
   "metadata": {
    "scrolled": false
   },
   "outputs": [
    {
     "name": "stdout",
     "output_type": "stream",
     "text": [
      "追蹤\n"
     ]
    }
   ],
   "source": [
    "print(lastmonth.worksheets[-1].title)"
   ]
  },
  {
   "cell_type": "code",
   "execution_count": 3,
   "id": "f11589f5",
   "metadata": {},
   "outputs": [
    {
     "name": "stdout",
     "output_type": "stream",
     "text": [
      "None\n"
     ]
    }
   ],
   "source": [
    "print(currentmonth.worksheets[0]['A20'].value)"
   ]
  },
  {
   "cell_type": "code",
   "execution_count": 4,
   "id": "537dac25",
   "metadata": {},
   "outputs": [],
   "source": [
    "for i in range(1,len(currentmonth.worksheets[-1]['B'])+1):\n",
    "    if currentmonth.worksheets[-1]['B'+str(i)].value != None and re.search(r'\\d{3}-\\d{11}', str(currentmonth.worksheets[-1]['B'+str(i)].value)) != None:\n",
    "        currentmonth.worksheets[-1]['C'+str(i)].value = '=MID(D'+str(i)+',4,6)'\n",
    "        currentmonth.worksheets[-1]['G'+str(i)].value = '=F'+str(i)+'*E'+str(i)"
   ]
  },
  {
   "cell_type": "code",
   "execution_count": 5,
   "id": "97a0a7da",
   "metadata": {
    "scrolled": true
   },
   "outputs": [],
   "source": [
    "for name in range(0,len(currentmonth.worksheets)):\n",
    "    for tracedname in range(1,len(currentmonth.worksheets[-1]['B'])+1):\n",
    "        if currentmonth.worksheets[-1]['B'+str(tracedname)].value == currentmonth.worksheets[name].title:\n",
    "            for i in range(1,len(currentmonth.worksheets[-1]['B'])+1):\n",
    "                for j in range(1,len(currentmonth.worksheets[name]['B'])+1):\n",
    "                    if  currentmonth.worksheets[name]['A'+str(j)].value != None and scrapped not in str(currentmonth.worksheets[name]['A'+str(j)].value):\n",
    "                        if re.search(r'\\d{3}-\\d{11}', str(currentmonth.worksheets[-1]['B'+str(i)].value)) != None and re.search(r'\\d{3}-\\d{11}', str(currentmonth.worksheets[name]['B'+str(j)].value)) != None and currentmonth.worksheets[name]['B'+str(j)].value == currentmonth.worksheets[-1]['B'+str(i)].value:\n",
    "                            currentmonth.worksheets[-1]['D'+str(i)].value = currentmonth.worksheets[name]['D'+str(j)].value\n",
    "                            currentmonth.worksheets[-1]['E'+str(i)].value = currentmonth.worksheets[name]['E'+str(j)].value\n",
    "                            currentmonth.worksheets[-1]['F'+str(i)].value = currentmonth.worksheets[name]['F'+str(j)].value\n",
    "                            currentmonth.worksheets[-1]['H'+str(i)].value = currentmonth.worksheets[name]['H'+str(j)].value\n",
    "                            currentmonth.worksheets[-1]['I'+str(i)].value = currentmonth.worksheets[name]['I'+str(j)].value\n",
    "                    if currentmonth.worksheets[name]['A'+str(j)].value != None and scrapped in str(currentmonth.worksheets[name]['A'+str(j)].value):\n",
    "                        break"
   ]
  },
  {
   "cell_type": "code",
   "execution_count": 6,
   "id": "fcDhVPqxrFWE",
   "metadata": {
    "id": "fcDhVPqxrFWE"
   },
   "outputs": [],
   "source": [
    "for i in range(1, (currentmonth.worksheets[-1].max_row)+1):#上個月導入\n",
    "    if re.search(r'\\d\\d\\d-\\d\\d\\d\\d\\d\\d\\d\\d\\d\\d\\d', str(currentmonth.worksheets[-1]['B'+str(i)].value)) != None and currentmonth.worksheets[-1]['D'+str(i)].value == None:\n",
    "        for j in range(1, (lastmonth.worksheets[-1].max_row)+1):\n",
    "            if currentmonth.worksheets[-1]['B'+str(i)].value == lastmonth.worksheets[-1]['B'+str(j)].value:\n",
    "                currentmonth.worksheets[-1]['D'+str(i)].value = lastmonth.worksheets[-1]['D'+str(j)].value\n",
    "                if currentmonth.worksheets[-1]['F'+str(i)].value == None:\n",
    "                    currentmonth.worksheets[-1]['F'+str(i)].value = lastmonth.worksheets[-1]['F'+str(j)].value\n",
    "                currentmonth.worksheets[-1]['H'+str(i)].value = lastmonth.worksheets[-1]['H'+str(j)].value\n",
    "                if currentmonth.worksheets[-1]['I'+str(i)].value == None:\n",
    "                    currentmonth.worksheets[-1]['I'+str(i)].value = lastmonth.worksheets[-1]['I'+str(j)].value"
   ]
  },
  {
   "cell_type": "code",
   "execution_count": 7,
   "id": "ff595081",
   "metadata": {
    "id": "ff595081",
    "scrolled": true
   },
   "outputs": [],
   "source": [
    "currentmonth.save(\"X:\\\\生管組\\\\1116 蔡武憲\\\\重量\\\\鑄造紀錄表-12(2).xlsx\")"
   ]
  },
  {
   "cell_type": "code",
   "execution_count": null,
   "id": "5622aa57",
   "metadata": {},
   "outputs": [],
   "source": [
    "'''\n",
    "for i in range(1, (currentmonth.worksheets[0].max_row)+1):#曾福隆導入\n",
    "    if type(currentmonth.worksheets[0]['A'+str(i)].value) != str:\n",
    "        for j in range(1, (currentmonth.worksheets[8].max_row)+1):\n",
    "            if currentmonth.worksheets[0]['B'+str(i)].value != None and currentmonth.worksheets[0]['B'+str(i)].value == currentmonth.worksheets[8]['B'+str(j)].value:\n",
    "                print(i, j)\n",
    "                currentmonth.worksheets[8]['D'+str(j)].value = currentmonth.worksheets[0]['D'+str(i)].value\n",
    "                currentmonth.worksheets[8]['F'+str(j)].value = currentmonth.worksheets[0]['F'+str(i)].value\n",
    "                currentmonth.worksheets[8]['H'+str(j)].value = currentmonth.worksheets[0]['H'+str(i)].value\n",
    "    elif type(currentmonth.worksheets[0]['A'+str(i)].value) == str and scrapped in currentmonth.worksheets[0]['A'+str(i)].value:\n",
    "        break\n",
    "'''"
   ]
  },
  {
   "cell_type": "code",
   "execution_count": null,
   "id": "58e9865a",
   "metadata": {},
   "outputs": [],
   "source": [
    "'''\n",
    "for i in range(1, (currentmonth.worksheets[1].max_row)+1):#劉詮茂導入\n",
    "    if type(currentmonth.worksheets[1]['A'+str(i)].value) != str:\n",
    "        for j in range(1, (currentmonth.worksheets[8].max_row)+1):\n",
    "            if currentmonth.worksheets[1]['B'+str(i)].value != None and currentmonth.worksheets[1]['B'+str(i)].value == currentmonth.worksheets[8]['B'+str(j)].value:\n",
    "                print(i, j)\n",
    "                currentmonth.worksheets[8]['D'+str(j)].value = currentmonth.worksheets[1]['D'+str(i)].value\n",
    "                currentmonth.worksheets[8]['F'+str(j)].value = currentmonth.worksheets[1]['F'+str(i)].value\n",
    "                currentmonth.worksheets[8]['H'+str(j)].value = currentmonth.worksheets[1]['H'+str(i)].value\n",
    "    elif type(currentmonth.worksheets[1]['A'+str(i)].value) == str and scrapped in currentmonth.worksheets[1]['A'+str(i)].value:\n",
    "        break\n",
    "'''"
   ]
  },
  {
   "cell_type": "code",
   "execution_count": null,
   "id": "d74d1fdb",
   "metadata": {},
   "outputs": [],
   "source": [
    "'''\n",
    "for i in range(1, (currentmonth.worksheets[2].max_row)+1):#西瓦導入\n",
    "    if type(currentmonth.worksheets[2]['A'+str(i)].value) != str:\n",
    "        for j in range(1, (currentmonth.worksheets[8].max_row)+1):\n",
    "            if currentmonth.worksheets[2]['B'+str(i)].value != None and currentmonth.worksheets[4]['B'+str(i)].value == currentmonth.worksheets[8]['B'+str(j)].value:\n",
    "                print(i, j)\n",
    "                currentmonth.worksheets[8]['D'+str(j)].value = currentmonth.worksheets[2]['D'+str(i)].value\n",
    "                currentmonth.worksheets[8]['F'+str(j)].value = currentmonth.worksheets[2]['F'+str(i)].value\n",
    "                currentmonth.worksheets[8]['H'+str(j)].value = currentmonth.worksheets[2]['H'+str(i)].value\n",
    "    elif type(currentmonth.worksheets[2]['A'+str(i)].value) == str and scrapped in currentmonth.worksheets[2]['A'+str(i)].value:\n",
    "        break\n",
    "'''"
   ]
  },
  {
   "cell_type": "code",
   "execution_count": null,
   "id": "71a0e219",
   "metadata": {},
   "outputs": [],
   "source": [
    "'''\n",
    "for i in range(1, (currentmonth.worksheets[4].max_row)+1):#西瓦導入\n",
    "    if type(currentmonth.worksheets[4]['A'+str(i)].value) != str:\n",
    "        for j in range(1, (currentmonth.worksheets[8].max_row)+1):\n",
    "            if currentmonth.worksheets[4]['B'+str(i)].value != None and currentmonth.worksheets[4]['B'+str(i)].value == currentmonth.worksheets[8]['B'+str(j)].value:\n",
    "                print(i, j)\n",
    "                currentmonth.worksheets[8]['D'+str(j)].value = currentmonth.worksheets[4]['D'+str(i)].value\n",
    "                currentmonth.worksheets[8]['F'+str(j)].value = currentmonth.worksheets[4]['F'+str(i)].value\n",
    "                currentmonth.worksheets[8]['H'+str(j)].value = currentmonth.worksheets[4]['H'+str(i)].value\n",
    "    elif type(currentmonth.worksheets[4]['A'+str(i)].value) == str and scrapped in currentmonth.worksheets[4]['A'+str(i)].value:\n",
    "        break\n",
    "'''"
   ]
  },
  {
   "cell_type": "code",
   "execution_count": null,
   "id": "13023988",
   "metadata": {
    "id": "13023988"
   },
   "outputs": [],
   "source": []
  }
 ],
 "metadata": {
  "colab": {
   "collapsed_sections": [],
   "provenance": []
  },
  "kernelspec": {
   "display_name": "Python 3 (ipykernel)",
   "language": "python",
   "name": "python3"
  },
  "language_info": {
   "codemirror_mode": {
    "name": "ipython",
    "version": 3
   },
   "file_extension": ".py",
   "mimetype": "text/x-python",
   "name": "python",
   "nbconvert_exporter": "python",
   "pygments_lexer": "ipython3",
   "version": "3.9.12"
  }
 },
 "nbformat": 4,
 "nbformat_minor": 5
}
