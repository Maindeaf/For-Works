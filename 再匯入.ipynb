{
 "cells": [
  {
   "cell_type": "code",
   "execution_count": null,
   "id": "0b2dfc2c",
   "metadata": {
    "id": "0b2dfc2c"
   },
   "outputs": [],
   "source": [
    "#匯入所需工具\n",
    "import openpyxl as op\n",
    "import xlrd as xl\n",
    "import os\n",
    "import re\n",
    "from openpyxl.styles import Font\n",
    "from datetime import timedelta\n",
    "Titlefont = Font(name = \"新細明體\", size=10, bold = True ,color = \"FF0000\")\n",
    "redfont = Font(name = \"新細明體\", size=10, bold = False ,color = \"FF0000\")\n",
    "blackfont = Font(name = \"新細明體\", size=10, bold = False ,color = \"000000\")"
   ]
  },
  {
   "cell_type": "code",
   "execution_count": null,
   "id": "ed693ddb",
   "metadata": {},
   "outputs": [],
   "source": [
    "#建立所需方法\n",
    "def convert(seconds):\n",
    "    hour = seconds // 3600\n",
    "    seconds %= 3600\n",
    "    minutes = seconds // 60\n",
    "    seconds %= 60\n",
    "    return \"%04d:%02d:%02d\" % (hour, minutes, seconds)\n",
    "def splittime(time):\n",
    "    timesplitlist = []\n",
    "    timesplitlist = re.split(':', time)\n",
    "    seconds = timedelta(hours = int(timesplitlist[0]),\n",
    "              minutes = int(timesplitlist[1]),\n",
    "              seconds = int(timesplitlist[2])).total_seconds()\n",
    "    return seconds"
   ]
  },
  {
   "cell_type": "code",
   "execution_count": null,
   "id": "35b8b196",
   "metadata": {
    "id": "35b8b196"
   },
   "outputs": [],
   "source": [
    "#抓取總表\n",
    "gg = op.load_workbook(\"\")"
   ]
  },
  {
   "cell_type": "code",
   "execution_count": null,
   "id": "7a6f2c1d",
   "metadata": {
    "id": "7a6f2c1d"
   },
   "outputs": [],
   "source": [
    "#匯入途程表\n",
    "Path = os.path.join('')\n",
    "bomlist = []\n",
    "for excel in os.listdir(Path):\n",
    "    bomlist.append(xl.open_workbook(Path+'\\\\'+excel))"
   ]
  },
  {
   "cell_type": "code",
   "execution_count": null,
   "id": "j5mIZXB_rMk3",
   "metadata": {
    "id": "j5mIZXB_rMk3"
   },
   "outputs": [],
   "source": [
    "#校刀、特殊、整修、檢驗陣列\n",
    "specialname = ['']\n",
    "specialprocess = ['']\n",
    "qcname = ['']\n",
    "repairname = ['']\n",
    "calibratename = ['']"
   ]
  },
  {
   "cell_type": "code",
   "execution_count": null,
   "id": "4ace99ae",
   "metadata": {
    "id": "4ace99ae"
   },
   "outputs": [],
   "source": [
    "#校刀與特殊整修填入\n",
    "for i in range(3,len(gg.worksheets[0]['B'])+1):\n",
    "    if gg.worksheets[0]['O'+str(i)].value == None:\n",
    "        if gg.worksheets[0]['H'+str(i)].value in specialprocess:\n",
    "            gg.worksheets[0]['O'+str(i)].value = \"特殊\"\n",
    "            gg.worksheets[0]['P'+str(i)].value = \"特殊\"\n",
    "            gg.worksheets[0]['Q'+str(i)].value = \"特殊\"\n",
    "            gg.worksheets[0]['R'+str(i)].value = \"特殊\"\n",
    "            gg.worksheets[0]['S'+str(i)].value = \"特殊\"\n",
    "        elif gg.worksheets[0]['H'+str(i)].value in qcname:\n",
    "            gg.worksheets[0]['O'+str(i)].value = \"檢驗\"\n",
    "            gg.worksheets[0]['P'+str(i)].value = \"檢驗\"\n",
    "            gg.worksheets[0]['Q'+str(i)].value = \"檢驗\"\n",
    "            gg.worksheets[0]['R'+str(i)].value = \"檢驗\"\n",
    "            gg.worksheets[0]['S'+str(i)].value = \"檢驗\"\n",
    "        elif gg.worksheets[0]['H'+str(i)].value in repairname:\n",
    "            gg.worksheets[0]['O'+str(i)].value = \"整修\"\n",
    "            gg.worksheets[0]['P'+str(i)].value = \"整修\"\n",
    "            gg.worksheets[0]['Q'+str(i)].value = \"整修\"\n",
    "            gg.worksheets[0]['R'+str(i)].value = \"整修\"\n",
    "            gg.worksheets[0]['S'+str(i)].value = \"整修\"\n",
    "        elif gg.worksheets[0]['H'+str(i)].value in calibratename:\n",
    "            gg.worksheets[0]['O'+str(i)].value = \"校刀\"\n",
    "            gg.worksheets[0]['P'+str(i)].value = \"校刀\"\n",
    "            gg.worksheets[0]['Q'+str(i)].value = \"校刀\"\n",
    "            gg.worksheets[0]['R'+str(i)].value = \"校刀\"\n",
    "            gg.worksheets[0]['S'+str(i)].value = \"校刀\"\n",
    "        elif gg.worksheets[0]['L'+str(i)].value in specialname and gg.worksheets[0]['O'+str(i)].value != '特殊':\n",
    "            gg.worksheets[0]['O'+str(i)].value = \"特殊\"\n",
    "            gg.worksheets[0]['P'+str(i)].value = \"特殊\"\n",
    "            gg.worksheets[0]['Q'+str(i)].value = \"特殊\"\n",
    "            gg.worksheets[0]['R'+str(i)].value = \"特殊\"\n",
    "            gg.worksheets[0]['S'+str(i)].value = \"特殊\""
   ]
  },
  {
   "cell_type": "code",
   "execution_count": null,
   "id": "ZjjkPu7FYx4_",
   "metadata": {
    "id": "ZjjkPu7FYx4_"
   },
   "outputs": [],
   "source": [
    "#出庫等填滿格子\n",
    "for i in range(4,len(gg.worksheets[0]['O'])+1):\n",
    "    if gg.worksheets[0]['O'+str(i)].value != None and gg.worksheets[0]['S'+str(i)].value == None and re.search('\\d',gg.worksheets[0]['O'+str(i)].value) == None:\n",
    "        gg.worksheets[0]['P'+str(i)].value = gg.worksheets[0]['O'+str(i)].value\n",
    "        gg.worksheets[0]['Q'+str(i)].value = gg.worksheets[0]['O'+str(i)].value\n",
    "        gg.worksheets[0]['R'+str(i)].value = gg.worksheets[0]['O'+str(i)].value\n",
    "        gg.worksheets[0]['S'+str(i)].value = gg.worksheets[0]['O'+str(i)].value"
   ]
  },
  {
   "cell_type": "code",
   "execution_count": null,
   "id": "5afb4401",
   "metadata": {
    "id": "5afb4401",
    "scrolled": true
   },
   "outputs": [],
   "source": [
    "#匯入人時機時\n",
    "for bom in bomlist:\n",
    "    for i in range(3,bom.sheet_by_index(1).nrows):\n",
    "        for j in range(3,len(gg.worksheets[0]['B'])+1):\n",
    "            if (gg.worksheets[0]['C'+str(j)].value) != None:\n",
    "                if (bom.sheet_by_index(0).cell_value(3,0)) in gg.worksheets[0]['C'+str(j)].value:\n",
    "                    if (bom.sheet_by_index(1).cell_value(i,0)) in (gg.worksheets[0]['B'+str(j)].value):#製程數字比對\n",
    "                        if (bom.sheet_by_index(1).cell_value(i,2)) in (gg.worksheets[0]['H'+str(j)].value):#製程描述比對\n",
    "                            if (bom.sheet_by_index(1).cell_value(i,12)) != None:\n",
    "                                if (re.search(r'[A-Z](.8*)\\d{6}', bom.sheet_by_index(1).cell_value(i,12)) != None or re.search(r'R(.8*)\\d*/\\d*', bom.sheet_by_index(1).cell_value(i,12)) != None) and (bom.sheet_by_index(1).cell_value(i,8))!= \"0000:00:00\" and gg.worksheets[0]['O'+str(j)].value == None:\n",
    "                                    gg.worksheets[0]['O'+str(j)].value = bom.sheet_by_index(1).cell_value(i,8)\n",
    "                                    print(j)\n",
    "                                    print(gg.worksheets[0]['O'+str(j)].value)\n",
    "                                if (re.search(r'[A-Z](.8*)\\d{6}', bom.sheet_by_index(1).cell_value(i,12)) != None or re.search(r'R(.8*)\\d*/\\d*', bom.sheet_by_index(1).cell_value(i,12)) != None) and (bom.sheet_by_index(1).cell_value(i,10))!= \"0000:00:00\" and gg.worksheets[0]['P'+str(j)].value == None:\n",
    "                                    gg.worksheets[0]['P'+str(j)].value = bom.sheet_by_index(1).cell_value(i,10)\n",
    "                                    print(j)\n",
    "                                    print(gg.worksheets[0]['P'+str(j)].value)"
   ]
  },
  {
   "cell_type": "code",
   "execution_count": null,
   "id": "61a4e614",
   "metadata": {
    "id": "61a4e614"
   },
   "outputs": [],
   "source": [
    "#人時機時數量計算\n",
    "for i in range(3,len(gg.worksheets[0]['B'])+1):\n",
    "    if gg.worksheets[0]['O'+str(i)].value != None and re.search('\\d',gg.worksheets[0]['O'+str(i)].value) != None and gg.worksheets[0]['Q'+str(i)].value == None:\n",
    "        gg.worksheets[0]['Q'+str(i)].value = convert(int(gg.worksheets[0]['I'+str(i)].value*splittime(gg.worksheets[0]['O'+str(i)].value)))\n",
    "    if gg.worksheets[0]['P'+str(i)].value != None and re.search('\\d',gg.worksheets[0]['P'+str(i)].value) != None and gg.worksheets[0]['R'+str(i)].value == None:\n",
    "        gg.worksheets[0]['R'+str(i)].value = convert(int(gg.worksheets[0]['I'+str(i)].value*splittime(gg.worksheets[0]['P'+str(i)].value)))"
   ]
  },
  {
   "cell_type": "code",
   "execution_count": null,
   "id": "ea85bf49",
   "metadata": {
    "id": "ea85bf49",
    "outputId": "9d1814cb-d4a7-46a4-a70e-b28bcd5ba1ce",
    "scrolled": true
   },
   "outputs": [],
   "source": [
    "#正負差\n",
    "for i in range(3,len(gg.worksheets[0]['B'])+1):\n",
    "    if gg.worksheets[0]['O'+str(i)].value != None and re.search('\\d',gg.worksheets[0]['O'+str(i)].value) and gg.worksheets[0]['S'+str(i)].value == None:\n",
    "            gg.worksheets[0]['S'+str(i)].value = splittime(gg.worksheets[0]['M'+str(i)].value)-splittime(gg.worksheets[0]['Q'+str(i)].value)"
   ]
  },
  {
   "cell_type": "code",
   "execution_count": null,
   "id": "f8589900",
   "metadata": {
    "id": "f8589900"
   },
   "outputs": [],
   "source": [
    "#正負差轉換格式並上色\n",
    "for i in range(3,len(gg.worksheets[0]['B'])+1):\n",
    "    if gg.worksheets[0]['S'+str(i)].value != None and type(gg.worksheets[0]['S'+str(i)].value) == float:\n",
    "        if int(gg.worksheets[0]['S'+str(i)].value) > 0:\n",
    "            gg.worksheets[0]['S'+str(i)].font = redfont\n",
    "        elif int(gg.worksheets[0]['S'+str(i)].value) <= 0:\n",
    "            gg.worksheets[0]['S'+str(i)].font = blackfont\n",
    "        gg.worksheets[0]['S'+str(i)].value = convert(abs(int(gg.worksheets[0]['S'+str(i)].value)))"
   ]
  },
  {
   "cell_type": "code",
   "execution_count": null,
   "id": "Hwyep8fZPLG9",
   "metadata": {
    "id": "Hwyep8fZPLG9"
   },
   "outputs": [],
   "source": [
    "#存檔\n",
    "gg.save(\"\")"
   ]
  },
  {
   "cell_type": "code",
   "execution_count": null,
   "id": "42527877",
   "metadata": {
    "id": "42527877"
   },
   "outputs": [],
   "source": []
  }
 ],
 "metadata": {
  "colab": {
   "collapsed_sections": [],
   "provenance": [
    {
     "file_id": "1QbUo0QRDHbDYMSFqibker8Ox3USn6y1o",
     "timestamp": 1657101186932
    }
   ]
  },
  "kernelspec": {
   "display_name": "Python 3 (ipykernel)",
   "language": "python",
   "name": "python3"
  },
  "language_info": {
   "codemirror_mode": {
    "name": "ipython",
    "version": 3
   },
   "file_extension": ".py",
   "mimetype": "text/x-python",
   "name": "python",
   "nbconvert_exporter": "python",
   "pygments_lexer": "ipython3",
   "version": "3.9.12"
  }
 },
 "nbformat": 4,
 "nbformat_minor": 5
}
