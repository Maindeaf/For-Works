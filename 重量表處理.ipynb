{
 "cells": [
  {
   "cell_type": "code",
   "execution_count": 1,
   "id": "d7fe4e68",
   "metadata": {
    "id": "d7fe4e68",
    "scrolled": true
   },
   "outputs": [],
   "source": [
    "#導入需要工具\n",
    "import openpyxl as op\n",
    "import re\n",
    "currentmonth = op.load_workbook(\"Z:\\\\辦公室共用資料夾\\\\鑄造課重量\\\\111年\\\\鑄造紀錄表-10.xlsx\")#導入此月重量表\n",
    "lastmonth = op.load_workbook(\"Z:\\\\辦公室共用資料夾\\\\鑄造課重量\\\\111年\\\\鑄造紀錄表-09.xlsx\")#導入上個月重量表\n",
    "scrapped = \"鑄造不良\""
   ]
  },
  {
   "cell_type": "code",
   "execution_count": null,
   "id": "e64c1410",
   "metadata": {},
   "outputs": [],
   "source": [
    "for item in currentmonth:\n",
    "    print(item.title)"
   ]
  },
  {
   "cell_type": "code",
   "execution_count": null,
   "id": "d0b93e90",
   "metadata": {},
   "outputs": [],
   "source": [
    "print(lastmonth.worksheets[5].title)"
   ]
  },
  {
   "cell_type": "code",
   "execution_count": null,
   "id": "Op3lOpRvcDsw",
   "metadata": {
    "id": "Op3lOpRvcDsw"
   },
   "outputs": [],
   "source": [
    "'''\n",
    "for name in range(0, len(currentmonth.worksheets)):\n",
    "    for i in range(2, (currentmonth.worksheets[5].max_row)+1):\n",
    "        if currentmonth.worksheets[5]['B'+str(i)].value == currentmonth.worksheets[name].title:\n",
    "            for j in range(1, (currentmonth.worksheets[name].max_row)+1):\n",
    "                if type(currentmonth.worksheets[name]['A'+str(j)].value) != str:\n",
    "                    if currentmonth.worksheets[name]['B'+str(j)].value != None and re.search(r'\\d\\d\\d-\\d\\d\\d\\d\\d\\d\\d\\d\\d\\d\\d', currentmonth.worksheets[name]['B'+str(j)].value) != None:\n",
    "                        if currentmonth.worksheets[name]['B'+str(j)].value == currentmonth.worksheets[5]['B'+str(i+2)].value:\n",
    "                            print(i)\n",
    "                            print(j)\n",
    "                            currentmonth.worksheets[5]['D'+str(i+2)].value = currentmonth.worksheets[name]['D'+str(j)].value\n",
    "                            currentmonth.worksheets[5]['F'+str(i+2)].value = currentmonth.worksheets[name]['F'+str(j)].value\n",
    "                            currentmonth.worksheets[5]['H'+str(i+2)].value = currentmonth.worksheets[name]['H'+str(j)].value\n",
    "'''"
   ]
  },
  {
   "cell_type": "code",
   "execution_count": null,
   "id": "7e39b946",
   "metadata": {},
   "outputs": [],
   "source": [
    "'''\n",
    "for name in range(0, len(currentmonth.worksheets)):\n",
    "    for i in range(2, (currentmonth.worksheets[5].max_row)+1):\n",
    "        if currentmonth.worksheets[5]['B'+str(i)].value == currentmonth.worksheets[name].title:\n",
    "            if currentmonth.worksheets[5]['B'+str(i)].value != None:\n",
    "                if currentmonth.worksheets[5]['B'+str(i)].value == currentmonth.worksheets[name][]\n",
    "'''"
   ]
  },
  {
   "cell_type": "code",
   "execution_count": 2,
   "id": "5622aa57",
   "metadata": {},
   "outputs": [],
   "source": [
    "for i in range(1, (currentmonth.worksheets[0].max_row)+1):#曾福隆導入\n",
    "    if type(currentmonth.worksheets[0]['A'+str(i)].value) != str:\n",
    "        for j in range(1, (currentmonth.worksheets[5].max_row)+1):\n",
    "            if currentmonth.worksheets[0]['B'+str(i)].value != None and currentmonth.worksheets[0]['B'+str(i)].value == currentmonth.worksheets[7]['B'+str(j)].value:\n",
    "                currentmonth.worksheets[7]['D'+str(j)].value = currentmonth.worksheets[0]['D'+str(i)].value\n",
    "                currentmonth.worksheets[7]['F'+str(j)].value = currentmonth.worksheets[0]['F'+str(i)].value\n",
    "                currentmonth.worksheets[7]['H'+str(j)].value = currentmonth.worksheets[0]['H'+str(i)].value\n",
    "    elif type(currentmonth.worksheets[0]['A'+str(i)].value) == str and scrapped in currentmonth.worksheets[0]['A'+str(i)].value:\n",
    "        break"
   ]
  },
  {
   "cell_type": "code",
   "execution_count": 3,
   "id": "58e9865a",
   "metadata": {},
   "outputs": [],
   "source": [
    "for i in range(1, (currentmonth.worksheets[1].max_row)+1):#劉詮茂導入\n",
    "    if type(currentmonth.worksheets[1]['A'+str(i)].value) != str:\n",
    "        for j in range(1, (currentmonth.worksheets[1].max_row)+1):\n",
    "            if currentmonth.worksheets[1]['B'+str(i)].value != None and currentmonth.worksheets[1]['B'+str(i)].value == currentmonth.worksheets[7]['B'+str(j)].value:\n",
    "                currentmonth.worksheets[7]['D'+str(j)].value = currentmonth.worksheets[1]['D'+str(i)].value\n",
    "                currentmonth.worksheets[7]['F'+str(j)].value = currentmonth.worksheets[1]['F'+str(i)].value\n",
    "                currentmonth.worksheets[7]['H'+str(j)].value = currentmonth.worksheets[1]['H'+str(i)].value\n",
    "    elif type(currentmonth.worksheets[1]['A'+str(i)].value) == str and scrapped in currentmonth.worksheets[1]['A'+str(i)].value:\n",
    "        break"
   ]
  },
  {
   "cell_type": "code",
   "execution_count": 4,
   "id": "d74d1fdb",
   "metadata": {},
   "outputs": [],
   "source": [
    "for i in range(1, (currentmonth.worksheets[4].max_row)+1):#自動模導入\n",
    "    if type(currentmonth.worksheets[4]['A'+str(i)].value) != str:\n",
    "        for j in range(1, (currentmonth.worksheets[5].max_row)+1):\n",
    "            if currentmonth.worksheets[4]['B'+str(i)].value != None and currentmonth.worksheets[4]['B'+str(i)].value == currentmonth.worksheets[7]['B'+str(j)].value:\n",
    "                currentmonth.worksheets[7]['D'+str(j)].value = currentmonth.worksheets[4]['D'+str(i)].value\n",
    "                currentmonth.worksheets[7]['F'+str(j)].value = currentmonth.worksheets[4]['F'+str(i)].value\n",
    "                currentmonth.worksheets[7]['H'+str(j)].value = currentmonth.worksheets[4]['H'+str(i)].value\n",
    "    elif type(currentmonth.worksheets[4]['A'+str(i)].value) == str and scrapped in currentmonth.worksheets[4]['A'+str(i)].value:\n",
    "        break"
   ]
  },
  {
   "cell_type": "code",
   "execution_count": 5,
   "id": "fcDhVPqxrFWE",
   "metadata": {
    "id": "fcDhVPqxrFWE"
   },
   "outputs": [],
   "source": [
    "for i in range(1, (currentmonth.worksheets[7].max_row)+1):#上個月導入\n",
    "    if re.search(r'\\d\\d\\d-\\d\\d\\d\\d\\d\\d\\d\\d\\d\\d\\d', str(currentmonth.worksheets[7]['B'+str(i)].value)) != None and currentmonth.worksheets[7]['D'+str(i)].value == None:\n",
    "        for j in range(1, (lastmonth.worksheets[5].max_row)+1):\n",
    "            if currentmonth.worksheets[7]['B'+str(i)].value == lastmonth.worksheets[5]['B'+str(j)].value:\n",
    "                currentmonth.worksheets[7]['D'+str(i)].value = lastmonth.worksheets[5]['D'+str(j)].value\n",
    "                currentmonth.worksheets[7]['F'+str(i)].value = lastmonth.worksheets[5]['F'+str(j)].value\n",
    "                currentmonth.worksheets[7]['H'+str(i)].value = lastmonth.worksheets[5]['H'+str(j)].value\n",
    "                currentmonth.worksheets[7]['I'+str(i)].value = lastmonth.worksheets[5]['I'+str(j)].value"
   ]
  },
  {
   "cell_type": "code",
   "execution_count": 6,
   "id": "ff595081",
   "metadata": {
    "id": "ff595081",
    "scrolled": true
   },
   "outputs": [],
   "source": [
    "currentmonth.save(\"Z:\\\\辦公室共用資料夾\\\\鑄造課重量\\\\111年\\\\鑄造紀錄表-10-1.xlsx\")"
   ]
  },
  {
   "cell_type": "code",
   "execution_count": null,
   "id": "13023988",
   "metadata": {
    "id": "13023988"
   },
   "outputs": [],
   "source": []
  }
 ],
 "metadata": {
  "colab": {
   "collapsed_sections": [],
   "provenance": []
  },
  "kernelspec": {
   "display_name": "Python 3 (ipykernel)",
   "language": "python",
   "name": "python3"
  },
  "language_info": {
   "codemirror_mode": {
    "name": "ipython",
    "version": 3
   },
   "file_extension": ".py",
   "mimetype": "text/x-python",
   "name": "python",
   "nbconvert_exporter": "python",
   "pygments_lexer": "ipython3",
   "version": "3.9.12"
  }
 },
 "nbformat": 4,
 "nbformat_minor": 5
}
