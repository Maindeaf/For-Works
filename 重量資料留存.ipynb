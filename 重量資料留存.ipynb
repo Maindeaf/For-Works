{
 "cells": [
  {
   "cell_type": "code",
   "execution_count": null,
   "id": "d7fe4e68",
   "metadata": {
    "id": "d7fe4e68",
    "scrolled": true
   },
   "outputs": [],
   "source": [
    "#導入需要工具\n",
    "import openpyxl as op\n",
    "import re\n",
    "import json\n",
    "from collections import OrderedDict\n",
    "weightlist = op.load_workbook(\"\")\n",
    "scrapped = \"鑄造不良\"\n",
    "weight = {}\n",
    "forger = []"
   ]
  },
  {
   "cell_type": "code",
   "execution_count": null,
   "id": "5fd0fb03",
   "metadata": {
    "id": "5fd0fb03"
   },
   "outputs": [],
   "source": [
    "#數據導入JSON\n",
    "for guy in forger:\n",
    "    for h in range(0, len(weightlist.worksheets)):\n",
    "        if weightlist.worksheets[h].title == guy:\n",
    "            for i in range(1, (weightlist.worksheets[1].max_row)+1):\n",
    "                if type(weightlist.worksheets[2]['A'+str(i)].value) != str and re.search(r'\\d', str(weightlist.worksheets[2]['D'+str(i)].value)) != None:\n",
    "                    weight[weightlist.worksheets[2]['D'+str(i)].value] = weightlist.worksheets[2]['F'+str(i)].value\n",
    "                elif type(weightlist.worksheets[2]['A'+str(i)].value) == str and scrapped in weightlist.worksheets[2]['A'+str(i)].value:\n",
    "                    break\n",
    "    jsonsavetest = open('', 'w')\n",
    "    w = json.dumps(weight)\n",
    "    jsonsavetest.write(w)\n",
    "    jsonsavetest.close()"
   ]
  },
  {
   "cell_type": "code",
   "execution_count": null,
   "id": "e9qAr8IrGKbu",
   "metadata": {
    "id": "e9qAr8IrGKbu"
   },
   "outputs": [],
   "source": [
    "#讀取JSON\n",
    "jsonsavetest2 = open('', 'r')"
   ]
  },
  {
   "cell_type": "code",
   "execution_count": null,
   "id": "4d387492",
   "metadata": {
    "id": "4d387492",
    "outputId": "f644ca9c-2d07-4c00-ced0-9683e3788797"
   },
   "outputs": [],
   "source": [
    "#確認數值\n",
    "print(jsonsavetest2)\n",
    "f = jsonsavetest2.read()\n",
    "a = json.loads(f)\n",
    "for i in a:\n",
    "    print(i, a[i])"
   ]
  },
  {
   "cell_type": "code",
   "execution_count": null,
   "id": "c96ad954",
   "metadata": {
    "id": "c96ad954"
   },
   "outputs": [],
   "source": []
  }
 ],
 "metadata": {
  "colab": {
   "collapsed_sections": [],
   "provenance": []
  },
  "kernelspec": {
   "display_name": "Python 3 (ipykernel)",
   "language": "python",
   "name": "python3"
  },
  "language_info": {
   "codemirror_mode": {
    "name": "ipython",
    "version": 3
   },
   "file_extension": ".py",
   "mimetype": "text/x-python",
   "name": "python",
   "nbconvert_exporter": "python",
   "pygments_lexer": "ipython3",
   "version": "3.9.12"
  }
 },
 "nbformat": 4,
 "nbformat_minor": 5
}
