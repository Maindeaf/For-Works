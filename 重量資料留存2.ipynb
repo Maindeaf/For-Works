{
 "cells": [
  {
   "cell_type": "code",
   "execution_count": 1,
   "id": "d7fe4e68",
   "metadata": {
    "id": "d7fe4e68",
    "scrolled": true
   },
   "outputs": [],
   "source": [
    "#導入需要工具\n",
    "import openpyxl as op\n",
    "import re\n",
    "import json\n",
    "from collections import OrderedDict\n",
    "weightlist = op.load_workbook(\"X:\\\\生管組\\\\1116 蔡武憲\\\\重量\\\\鑄造紀錄表-12(1).xlsx\")\n",
    "scrapped = \"鑄造不良\"\n",
    "weight = {}\n",
    "forger = ['曾福隆', '劉詮茂', '自動造模']"
   ]
  },
  {
   "cell_type": "code",
   "execution_count": null,
   "id": "13023988",
   "metadata": {
    "id": "13023988"
   },
   "outputs": [],
   "source": [
    "'''\n",
    "weight = {}\n",
    "for i in range(1, (weightlist.worksheets[5].max_row)+1):\n",
    "    if type(weightlist.worksheets[5]['B'+str(i)].value) == str and re.search(r'\\d\\d\\d-\\d\\d\\d\\d\\d\\d\\d\\d\\d\\d\\d', weightlist.worksheets[5]['B'+str(i)].value) != None:\n",
    "        weight[weightlist.worksheets[5]['D'+str(i)].value] = weightlist.worksheets[5]['F'+str(i)].value\n",
    "'''"
   ]
  },
  {
   "cell_type": "code",
   "execution_count": 2,
   "id": "5fd0fb03",
   "metadata": {
    "id": "5fd0fb03"
   },
   "outputs": [],
   "source": [
    "for guy in forger:\n",
    "    for h in range(0, len(weightlist.worksheets)):\n",
    "        if weightlist.worksheets[h].title == guy:\n",
    "            for i in range(1, (weightlist.worksheets[1].max_row)+1):\n",
    "                if type(weightlist.worksheets[2]['A'+str(i)].value) != str and re.search(r'\\d', str(weightlist.worksheets[2]['D'+str(i)].value)) != None:\n",
    "                    weight[weightlist.worksheets[2]['D'+str(i)].value] = weightlist.worksheets[2]['F'+str(i)].value\n",
    "                elif type(weightlist.worksheets[2]['A'+str(i)].value) == str and scrapped in weightlist.worksheets[2]['A'+str(i)].value:\n",
    "                    break\n",
    "    jsonsavetest = open('X:\\\\辦公室共用資料夾\\\\鑄造課重量\\\\111年\\\\重量資料留存JSON\\\\10月'+guy+'.json', 'w')\n",
    "    w = json.dumps(weight)\n",
    "    jsonsavetest.write(w)\n",
    "    jsonsavetest.close()"
   ]
  },
  {
   "cell_type": "code",
   "execution_count": 6,
   "id": "e9qAr8IrGKbu",
   "metadata": {
    "id": "e9qAr8IrGKbu"
   },
   "outputs": [],
   "source": [
    "jsonsavetest2 = open('X:\\\\辦公室共用資料夾\\\\鑄造課重量\\\\111年\\\\重量資料留存JSON\\\\10月自動造模.json', 'r')"
   ]
  },
  {
   "cell_type": "code",
   "execution_count": 7,
   "id": "4d387492",
   "metadata": {
    "id": "4d387492",
    "outputId": "f644ca9c-2d07-4c00-ced0-9683e3788797"
   },
   "outputs": [
    {
     "name": "stdout",
     "output_type": "stream",
     "text": [
      "<_io.TextIOWrapper name='X:\\\\辦公室共用資料夾\\\\鑄造課重量\\\\111年\\\\重量資料留存JSON\\\\10月自動造模.json' mode='r' encoding='cp950'>\n",
      "107A35051-000001 1.64\n",
      "107A42116-000115 3.27\n",
      "107A47046-000002 0.705\n",
      "107A47046-000001 0.526\n",
      "106A42203-000002 7.57\n",
      "106A42116-000014 4.22\n",
      "106A42116-000012 3.84\n",
      "106A42116-000013 5.04\n",
      "107A46036-000001 1.7\n",
      "107A47162-000001 0.462\n",
      "107A22026-000002 1.45\n",
      "103A22026-000112 141\n",
      "107A42116-000120 4.72\n",
      "107A22026-000011 2.4\n",
      "107A22026-000010 1.75\n",
      "107A52010-000001 0.49\n",
      "107A22026-000006 6.65\n",
      "106A47044-000002 0.35\n",
      "107A42116-000145 4\n",
      "107A42116-000135 2.17\n",
      "106A46041-000054 3.948\n",
      "107A47044-000005 0.24\n",
      "107A47044-000006 0.439\n",
      "107A47044-000010 1.3\n",
      "107A47044-000007 0.77\n",
      "106A42116-000002 10.5\n",
      "107A42116-000148 3.65\n",
      "107A42116-000114 1.887\n",
      "107A47044-000004 0.163\n",
      "106A28010-000001 5.96\n",
      "107A42116-000112 3.46\n",
      "107A22026-000013 4.8\n"
     ]
    }
   ],
   "source": [
    "print(jsonsavetest2)\n",
    "f = jsonsavetest2.read()\n",
    "a = json.loads(f)\n",
    "for i in a:\n",
    "    print(i, a[i])"
   ]
  },
  {
   "cell_type": "code",
   "execution_count": null,
   "id": "c96ad954",
   "metadata": {
    "id": "c96ad954"
   },
   "outputs": [],
   "source": []
  }
 ],
 "metadata": {
  "colab": {
   "collapsed_sections": [],
   "provenance": []
  },
  "kernelspec": {
   "display_name": "Python 3 (ipykernel)",
   "language": "python",
   "name": "python3"
  },
  "language_info": {
   "codemirror_mode": {
    "name": "ipython",
    "version": 3
   },
   "file_extension": ".py",
   "mimetype": "text/x-python",
   "name": "python",
   "nbconvert_exporter": "python",
   "pygments_lexer": "ipython3",
   "version": "3.9.12"
  }
 },
 "nbformat": 4,
 "nbformat_minor": 5
}
