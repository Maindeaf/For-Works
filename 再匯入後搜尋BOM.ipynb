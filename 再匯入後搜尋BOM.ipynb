{
 "cells": [
  {
   "cell_type": "code",
   "execution_count": null,
   "id": "9a1d09e6",
   "metadata": {},
   "outputs": [],
   "source": [
    "import openpyxl as op\n",
    "from collections import OrderedDict\n",
    "gg = op.load_workbook('')\n",
    "BOMLIST = []"
   ]
  },
  {
   "cell_type": "code",
   "execution_count": null,
   "id": "7e4b5ae4",
   "metadata": {},
   "outputs": [],
   "source": [
    "for i in range(5,len(gg.worksheets[0]['G'])+1):\n",
    "    if gg.worksheets[0]['C'+str(i)].value != None:\n",
    "        if gg.worksheets[0]['Q'+str(i)].value == None:\n",
    "            BOMLIST.append(gg.worksheets[0]['C'+str(i)].value)\n",
    "orderedBOMLIST = list(OrderedDict.fromkeys(BOMLIST))\n",
    "for item in orderedBOMLIST:\n",
    "    print(\"(BOMME.ME001 = N'\"+item+\"')\")"
   ]
  }
 ],
 "metadata": {
  "kernelspec": {
   "display_name": "Python 3 (ipykernel)",
   "language": "python",
   "name": "python3"
  },
  "language_info": {
   "codemirror_mode": {
    "name": "ipython",
    "version": 3
   },
   "file_extension": ".py",
   "mimetype": "text/x-python",
   "name": "python",
   "nbconvert_exporter": "python",
   "pygments_lexer": "ipython3",
   "version": "3.9.12"
  }
 },
 "nbformat": 4,
 "nbformat_minor": 5
}
