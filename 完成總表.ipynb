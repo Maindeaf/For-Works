{
 "cells": [
  {
   "cell_type": "code",
   "execution_count": null,
   "id": "0b2dfc2c",
   "metadata": {
    "id": "0b2dfc2c"
   },
   "outputs": [],
   "source": [
    "#匯入所需工具\n",
    "import openpyxl as op\n",
    "import xlrd as xl\n",
    "import os\n",
    "import re\n",
    "from openpyxl.styles import Font\n",
    "from openpyxl.styles import PatternFill\n",
    "from openpyxl.styles import Alignment\n",
    "from openpyxl.styles import Border,Side\n",
    "from datetime import timedelta"
   ]
  },
  {
   "cell_type": "code",
   "execution_count": null,
   "id": "b8935f91",
   "metadata": {},
   "outputs": [],
   "source": [
    "#建立所需方法\n",
    "def convert(seconds):\n",
    "    hour = seconds // 3600\n",
    "    seconds %= 3600\n",
    "    minutes = seconds // 60\n",
    "    seconds %= 60\n",
    "    return \"%04d:%02d:%02d\" % (hour, minutes, seconds)\n",
    "def splittime(time):\n",
    "    timesplitlist = []\n",
    "    timesplitlist = re.split(':', time)\n",
    "    seconds = timedelta(hours = int(timesplitlist[0]),\n",
    "              minutes = int(timesplitlist[1]),\n",
    "              seconds = int(timesplitlist[2])).total_seconds()\n",
    "    return seconds"
   ]
  },
  {
   "cell_type": "code",
   "execution_count": null,
   "id": "35b8b196",
   "metadata": {
    "id": "35b8b196"
   },
   "outputs": [],
   "source": [
    "#抓取總表\n",
    "gg = op.load_workbook(\"\")"
   ]
  },
  {
   "cell_type": "code",
   "execution_count": null,
   "id": "7a6f2c1d",
   "metadata": {
    "id": "7a6f2c1d"
   },
   "outputs": [],
   "source": [
    "#匯入途程表\n",
    "Path = os.path.join('')\n",
    "bomlist = []\n",
    "for excel in os.listdir(Path):\n",
    "    bomlist.append(xl.open_workbook(Path+'\\\\'+excel))"
   ]
  },
  {
   "cell_type": "code",
   "execution_count": null,
   "id": "x1nYpK4li3ZK",
   "metadata": {
    "id": "x1nYpK4li3ZK"
   },
   "outputs": [],
   "source": [
    "#校刀、特殊、整修、檢驗陣列\n",
    "specialname = ['']\n",
    "specialprocess = ['']\n",
    "repairname = ['']\n",
    "calibratename = ['']"
   ]
  },
  {
   "cell_type": "code",
   "execution_count": null,
   "id": "f133c86d",
   "metadata": {
    "id": "f133c86d"
   },
   "outputs": [],
   "source": [
    "#完成總表格式\n",
    "gg.worksheets[0].delete_cols(1,3)\n",
    "gg.worksheets[0].delete_cols(3)\n",
    "gg.worksheets[0].delete_cols(5,5)\n",
    "gg.worksheets[0].delete_cols(9)\n",
    "gg.worksheets[0].delete_cols(11,2)\n",
    "gg.worksheets[0].delete_cols(16)\n",
    "gg.worksheets[0].insert_cols(15,5)\n",
    "gg.worksheets[0]['O4'].value = \"平均人時(1PCS)\"\n",
    "gg.worksheets[0]['P4'].value = \"平均機時(1PCS)\"\n",
    "gg.worksheets[0]['Q4'].value = \"本次標準人時\"\n",
    "gg.worksheets[0]['R4'].value = \"本次標準機時\"\n",
    "gg.worksheets[0]['S4'].value = \"正負差\"\n",
    "redtitlefont = Font(name = \"新細明體\", size=8, bold = True ,color = \"FF0000\")\n",
    "blacktitlefont = Font(name = \"新細明體\", size=10, bold = True ,color = \"000000\")\n",
    "redfont = Font(name = \"新細明體\", size=10, bold = False ,color = \"FF0000\")\n",
    "blackfont = Font(name = \"新細明體\", size=10, bold = False ,color = \"000000\")\n",
    "grayfill = PatternFill(fill_type = 'solid',start_color='D9D9D9',end_color='D9D9D9')\n",
    "border = Border(left=Side(border_style='thin',color='000000'),\n",
    "                right=Side(border_style='thin',color='000000'),\n",
    "                top=Side(border_style='thin',color='000000'),\n",
    "                bottom=Side(border_style='thin',color='000000'))\n",
    "centered = Alignment(horizontal='center',vertical='center',wrap_text=True)\n",
    "gg.worksheets[0]['O4'].font = redtitlefont\n",
    "gg.worksheets[0]['P4'].font = redtitlefont\n",
    "gg.worksheets[0]['Q4'].font = redtitlefont\n",
    "gg.worksheets[0]['R4'].font = redtitlefont\n",
    "gg.worksheets[0]['S4'].font = redtitlefont\n",
    "gg.worksheets[0].column_dimensions['A'].hidden= True"
   ]
  },
  {
   "cell_type": "code",
   "execution_count": null,
   "id": "jfB3_B7Yi8R4",
   "metadata": {
    "id": "jfB3_B7Yi8R4"
   },
   "outputs": [],
   "source": [
    "#校刀與特殊整修填入\n",
    "for i in range(3,len(gg.worksheets[0]['B'])+1):\n",
    "    if gg.worksheets[0]['F'+str(i)].value != None and gg.worksheets[0]['O'+str(i)].value == None:\n",
    "        if gg.worksheets[0]['H'+str(i)].value in specialprocess:\n",
    "            gg.worksheets[0]['O'+str(i)].value = \"特殊\"\n",
    "            gg.worksheets[0]['P'+str(i)].value = \"特殊\"\n",
    "            gg.worksheets[0]['Q'+str(i)].value = \"特殊\"\n",
    "            gg.worksheets[0]['R'+str(i)].value = \"特殊\"\n",
    "            gg.worksheets[0]['S'+str(i)].value = \"特殊\"\n",
    "        elif gg.worksheets[0]['H'+str(i)].value in qcname:\n",
    "            gg.worksheets[0]['O'+str(i)].value = \"檢驗\"\n",
    "            gg.worksheets[0]['P'+str(i)].value = \"檢驗\"\n",
    "            gg.worksheets[0]['Q'+str(i)].value = \"檢驗\"\n",
    "            gg.worksheets[0]['R'+str(i)].value = \"檢驗\"\n",
    "            gg.worksheets[0]['S'+str(i)].value = \"檢驗\"\n",
    "        elif gg.worksheets[0]['H'+str(i)].value in repairname:\n",
    "            gg.worksheets[0]['O'+str(i)].value = \"整修\"\n",
    "            gg.worksheets[0]['P'+str(i)].value = \"整修\"\n",
    "            gg.worksheets[0]['Q'+str(i)].value = \"整修\"\n",
    "            gg.worksheets[0]['R'+str(i)].value = \"整修\"\n",
    "            gg.worksheets[0]['S'+str(i)].value = \"整修\"\n",
    "        elif gg.worksheets[0]['H'+str(i)].value in calibratename:\n",
    "            gg.worksheets[0]['O'+str(i)].value = \"校刀\"\n",
    "            gg.worksheets[0]['P'+str(i)].value = \"校刀\"\n",
    "            gg.worksheets[0]['Q'+str(i)].value = \"校刀\"\n",
    "            gg.worksheets[0]['R'+str(i)].value = \"校刀\"\n",
    "            gg.worksheets[0]['S'+str(i)].value = \"校刀\"\n",
    "        elif gg.worksheets[0]['L'+str(i)].value in specialname and gg.worksheets[0]['O'+str(i)].value != '特殊':\n",
    "            gg.worksheets[0]['O'+str(i)].value = \"特殊\"\n",
    "            gg.worksheets[0]['P'+str(i)].value = \"特殊\"\n",
    "            gg.worksheets[0]['Q'+str(i)].value = \"特殊\"\n",
    "            gg.worksheets[0]['R'+str(i)].value = \"特殊\"\n",
    "            gg.worksheets[0]['S'+str(i)].value = \"特殊\""
   ]
  },
  {
   "cell_type": "code",
   "execution_count": null,
   "id": "5afb4401",
   "metadata": {
    "id": "5afb4401",
    "outputId": "9c25e1b7-b0dd-4e9b-acc8-11d598f3804c"
   },
   "outputs": [],
   "source": [
    "#匯入人時機時\n",
    "for bom in bomlist:\n",
    "    for i in range(3,(bom.sheet_by_index(1).nrows)):\n",
    "        for j in range(5,len(gg.worksheets[0]['B'])+1):\n",
    "            if (gg.worksheets[0]['C'+str(j)].value) != None:\n",
    "                if (bom.sheet_by_index(0).cell_value(3,0)) in gg.worksheets[0]['C'+str(j)].value:\n",
    "                    if (bom.sheet_by_index(1).cell_value(i,0)) in (gg.worksheets[0]['B'+str(j)].value):\n",
    "                        if (bom.sheet_by_index(1).cell_value(i,2)) in (gg.worksheets[0]['H'+str(j)].value):\n",
    "                            if (bom.sheet_by_index(1).cell_value(i,12)) != None and gg.worksheets[0]['O'+str(j)].value == None:\n",
    "                                if (re.search(r'[A-Z](.8*)\\d{6}', bom.sheet_by_index(1).cell_value(i,12)) != None or re.search(r'[A-Z](.8*)\\d*/\\d*', bom.sheet_by_index(1).cell_value(i,12)) != None) and (bom.sheet_by_index(1).cell_value(i,8))!= \"0000:00:00\":\n",
    "                                    gg.worksheets[0]['O'+str(j)].value = bom.sheet_by_index(1).cell_value(i,8)\n",
    "                                    print(j)\n",
    "                                    print(gg.worksheets[0]['O'+str(j)].value)\n",
    "                                if (re.search(r'[A-Z](.8*)\\d{6}', bom.sheet_by_index(1).cell_value(i,12)) != None or re.search(r'[A-Z](.8*)\\d*/\\d*', bom.sheet_by_index(1).cell_value(i,12)) != None) and (bom.sheet_by_index(1).cell_value(i,10))!= \"0000:00:00\":\n",
    "                                    gg.worksheets[0]['P'+str(j)].value = bom.sheet_by_index(1).cell_value(i,10)\n",
    "                                    print(j)\n",
    "                                    print(gg.worksheets[0]['P'+str(j)].value)"
   ]
  },
  {
   "cell_type": "code",
   "execution_count": null,
   "id": "61a4e614",
   "metadata": {
    "id": "61a4e614"
   },
   "outputs": [],
   "source": [
    "#人時機時數量計算\n",
    "for i in range(5,len(gg.worksheets[0]['B'])+1):\n",
    "    if gg.worksheets[0]['O'+str(i)].value != None and re.search('\\d',gg.worksheets[0]['O'+str(i)].value) != None:\n",
    "        gg.worksheets[0]['Q'+str(i)].value = convert(int(gg.worksheets[0]['I'+str(i)].value*splittime(gg.worksheets[0]['O'+str(i)].value)))\n",
    "    if gg.worksheets[0]['P'+str(i)].value != None and re.search('\\d',gg.worksheets[0]['P'+str(i)].value) != None:\n",
    "        gg.worksheets[0]['R'+str(i)].value = convert(int(gg.worksheets[0]['I'+str(i)].value*splittime(gg.worksheets[0]['P'+str(i)].value)))"
   ]
  },
  {
   "cell_type": "code",
   "execution_count": null,
   "id": "ea85bf49",
   "metadata": {
    "id": "ea85bf49"
   },
   "outputs": [],
   "source": [
    "#正負差\n",
    "for i in range(5,len(gg.worksheets[0]['B'])+1):\n",
    "    if gg.worksheets[0]['O'+str(i)].value != None and re.search('\\d',gg.worksheets[0]['O'+str(i)].value) != None:\n",
    "        gg.worksheets[0]['S'+str(i)].value = splittime(gg.worksheets[0]['M'+str(i)].value) - splittime(gg.worksheets[0]['Q'+str(i)].value)\n",
    "    if gg.worksheets[0]['S'+str(i)].value != None and type(gg.worksheets[0]['S'+str(i)].value) == float:\n",
    "        if gg.worksheets[0]['S'+str(i)].value > 0:\n",
    "            gg.worksheets[0]['S'+str(i)].font = redfont\n",
    "        elif gg.worksheets[0]['S'+str(i)].value <= 0:\n",
    "            gg.worksheets[0]['S'+str(i)].font = blackfont\n",
    "        gg.worksheets[0]['S'+str(i)].value = convert(abs(int(gg.worksheets[0]['S'+str(i)].value)))"
   ]
  },
  {
   "cell_type": "code",
   "execution_count": null,
   "id": "ee973f87",
   "metadata": {
    "id": "ee973f87"
   },
   "outputs": [],
   "source": [
    "#調整欄寬、高，調整置中，調整字體大小\n",
    "for i in range(0,len(gg.worksheets[0][4])):\n",
    "    if gg.worksheets[0][4][i].value != None:\n",
    "        gg.worksheets[0][4][i].fill = grayfill\n",
    "gg.worksheets[0].column_dimensions['B'].width = 22.7109375\n",
    "gg.worksheets[0].column_dimensions['C'].width = 17.7109375\n",
    "gg.worksheets[0].column_dimensions['D'].width = 29.7109375\n",
    "gg.worksheets[0].column_dimensions['E'].width = 5.7109375\n",
    "gg.worksheets[0].column_dimensions['F'].width = 8.7109375\n",
    "gg.worksheets[0].column_dimensions['G'].width = 5.7109375\n",
    "gg.worksheets[0].column_dimensions['H'].width = 21.7109375\n",
    "gg.worksheets[0].column_dimensions['I'].width = 6.7109375\n",
    "gg.worksheets[0].column_dimensions['J'].width = 4.7109375\n",
    "gg.worksheets[0].column_dimensions['K'].width = 7.7109375\n",
    "gg.worksheets[0].column_dimensions['L'].width = 6.7109375\n",
    "gg.worksheets[0].column_dimensions['M'].width = 8.7109375\n",
    "gg.worksheets[0].column_dimensions['N'].width = 13.0\n",
    "gg.worksheets[0].column_dimensions['O'].width = 8.7109375\n",
    "gg.worksheets[0].column_dimensions['P'].width = 8.7109375\n",
    "gg.worksheets[0].column_dimensions['Q'].width = 8.7109375\n",
    "gg.worksheets[0].column_dimensions['R'].width = 8.7109375\n",
    "gg.worksheets[0].column_dimensions['S'].width = 9.7109375\n",
    "gg.worksheets[0].column_dimensions['T'].width = 10.7109375\n",
    "gg.worksheets[0].column_dimensions['U'].width = 9.140625\n",
    "gg.worksheets[0].row_dimensions[4].height = 45.0\n",
    "for i in range(4,len(gg.worksheets[0]['B'])+1):\n",
    "    for j in range(0,20):\n",
    "        gg.worksheets[0][i][j].border = border\n",
    "        gg.worksheets[0][i][j].alignment = centered\n",
    "        if i > 4 and gg.worksheets[0][i][j].font.size > 10:\n",
    "            gg.worksheets[0][i][j].font = blackfont\n",
    "        elif i == 4 and gg.worksheets[0][i][j].font.size > 10:\n",
    "            gg.worksheets[0][i][j].font = blacktitlefont"
   ]
  },
  {
   "cell_type": "code",
   "execution_count": null,
   "id": "20d82239",
   "metadata": {
    "id": "20d82239",
    "scrolled": true
   },
   "outputs": [],
   "source": [
    "#存檔\n",
    "gg.save(\"\")"
   ]
  }
 ],
 "metadata": {
  "colab": {
   "collapsed_sections": [],
   "provenance": []
  },
  "kernelspec": {
   "display_name": "Python 3 (ipykernel)",
   "language": "python",
   "name": "python3"
  },
  "language_info": {
   "codemirror_mode": {
    "name": "ipython",
    "version": 3
   },
   "file_extension": ".py",
   "mimetype": "text/x-python",
   "name": "python",
   "nbconvert_exporter": "python",
   "pygments_lexer": "ipython3",
   "version": "3.9.12"
  }
 },
 "nbformat": 4,
 "nbformat_minor": 5
}
