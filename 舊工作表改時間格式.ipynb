{
 "cells": [
  {
   "cell_type": "code",
   "execution_count": 1,
   "id": "369b1aa0",
   "metadata": {
    "id": "369b1aa0"
   },
   "outputs": [],
   "source": [
    "import openpyxl as op#匯入所需工具\n",
    "import os\n",
    "import re\n",
    "from copy import copy\n",
    "from openpyxl.styles import Font\n",
    "from openpyxl.styles import PatternFill\n",
    "from openpyxl.styles import Alignment\n",
    "from openpyxl.styles import Border,Side\n",
    "import datetime\n",
    "from datetime import datetime\n",
    "from datetime import time\n",
    "from datetime import timedelta\n",
    "Titlefont = Font(name = \"新細明體\", size=10, bold = True ,color = \"FF0000\")\n",
    "redfont = Font(name = \"新細明體\", size=10, bold = False ,color = \"FF0000\")\n",
    "blackfont = Font(name = \"新細明體\", size=10, bold = False ,color = \"000000\")\n",
    "gg = op.load_workbook('X:\\\\生管組\\\\共用\\\\2022工時明細\\\\202201~11\\\\202201~11工時明細總表1(格式轉換完成).xlsx')"
   ]
  },
  {
   "cell_type": "code",
   "execution_count": 2,
   "id": "6c6910aa",
   "metadata": {},
   "outputs": [],
   "source": [
    "def convert(seconds):\n",
    "    hour = seconds // 3600\n",
    "    seconds %= 3600\n",
    "    minutes = seconds // 60\n",
    "    seconds %= 60\n",
    "    return \"%04d:%02d:%02d\" % (hour, minutes, seconds)\n",
    "def splittime(time):\n",
    "    timesplitlist = []\n",
    "    timesplitlist = re.split(':', time)\n",
    "    seconds = timedelta(hours = int(timesplitlist[0]),\n",
    "              minutes = int(timesplitlist[1]),\n",
    "              seconds = int(timesplitlist[2])).total_seconds()\n",
    "    return seconds"
   ]
  },
  {
   "cell_type": "code",
   "execution_count": null,
   "id": "273012a8",
   "metadata": {
    "id": "273012a8",
    "outputId": "3db0a9bc-0ee2-4ac3-fd17-40b8fc2b171c",
    "scrolled": true
   },
   "outputs": [],
   "source": [
    "for i in range(3,len(gg.worksheets[0]['O'])+1):\n",
    "    if re.search(r'[A-Z]\\d+\\*[A-Z]\\d+', gg.worksheets[0]['S'+str(i)].value) != None:\n",
    "        print(i)"
   ]
  },
  {
   "cell_type": "code",
   "execution_count": null,
   "id": "288b3faf",
   "metadata": {},
   "outputs": [],
   "source": [
    "for i in range(3,len(gg.worksheets[0]['O'])+1):\n",
    "    if re.search(r'[A-Z]', str(gg.worksheets[0]['S'+str(i)].value)) != None:\n",
    "        print(i)"
   ]
  },
  {
   "cell_type": "code",
   "execution_count": null,
   "id": "c93adccd",
   "metadata": {
    "colab": {
     "base_uri": "https://localhost:8080/",
     "height": 237
    },
    "executionInfo": {
     "elapsed": 13,
     "status": "error",
     "timestamp": 1663565622690,
     "user": {
      "displayName": "馨蓮Kevin",
      "userId": "10531533941358213926"
     },
     "user_tz": -480
    },
    "id": "c93adccd",
    "outputId": "6e9596cc-ea15-4fdb-f9f1-7f726c21306d"
   },
   "outputs": [],
   "source": [
    "for i in range(3,len(gg.worksheets[0]['O'])+1):\n",
    "    if type(gg.worksheets[0]['O'+str(i)].value) != str and gg.worksheets[0]['O'+str(i)].value != None:\n",
    "        gg.worksheets[0]['O'+str(i)].value = str(gg.worksheets[0]['O'+str(i)].value)\n",
    "        gg.worksheets[0]['P'+str(i)].value = str(gg.worksheets[0]['P'+str(i)].value)\n",
    "    if len(gg.worksheets[0]['O'+str(i)].value) == 8:\n",
    "        gg.worksheets[0]['O'+str(i)].value = '00'+gg.worksheets[0]['O'+str(i)].value\n",
    "        gg.worksheets[0]['P'+str(i)].value = '00'+gg.worksheets[0]['P'+str(i)].value\n",
    "    if len(gg.worksheets[0]['O'+str(i)].value) == 9:\n",
    "        gg.worksheets[0]['O'+str(i)].value = '0'+gg.worksheets[0]['O'+str(i)].value\n",
    "        gg.worksheets[0]['P'+str(i)].value = '0'+gg.worksheets[0]['P'+str(i)].value\n",
    "    elif type(gg.worksheets[0]['O'+str(i)].value) == str and len(gg.worksheets[0]['O'+str(i)].value) == 8:\n",
    "        gg.worksheets[0]['O'+str(i)].value = '00'+gg.worksheets[0]['O'+str(i)].value\n",
    "        gg.worksheets[0]['P'+str(i)].value = str(gg.worksheets[0]['P'+str(i)].value)\n",
    "        gg.worksheets[0]['P'+str(i)].value = '00'+gg.worksheets[0]['P'+str(i)].value"
   ]
  },
  {
   "cell_type": "code",
   "execution_count": null,
   "id": "db2604a8",
   "metadata": {
    "id": "db2604a8",
    "outputId": "edfee7d4-f1f8-4415-f3c1-e2d607734e64"
   },
   "outputs": [],
   "source": [
    "for i in range(3,len(gg.worksheets[0]['O'])+1):\n",
    "    if type(gg.worksheets[0]['M'+str(i)].value) != str and gg.worksheets[0]['M'+str(i)].value != None:\n",
    "        gg.worksheets[0]['M'+str(i)].value = str(gg.worksheets[0]['M'+str(i)].value)\n",
    "        print(i)"
   ]
  },
  {
   "cell_type": "code",
   "execution_count": 3,
   "id": "6837277f",
   "metadata": {},
   "outputs": [
    {
     "name": "stdout",
     "output_type": "stream",
     "text": [
      "2953\n",
      "5464\n"
     ]
    }
   ],
   "source": [
    "for i in range(3,len(gg.worksheets[0]['O'])+1):\n",
    "    if type(gg.worksheets[0]['N'+str(i)].value) != str and gg.worksheets[0]['N'+str(i)].value != None:\n",
    "        gg.worksheets[0]['N'+str(i)].value = str(gg.worksheets[0]['M'+str(i)].value)\n",
    "        print(i)"
   ]
  },
  {
   "cell_type": "code",
   "execution_count": null,
   "id": "709c4d5b",
   "metadata": {
    "id": "709c4d5b"
   },
   "outputs": [],
   "source": [
    "for i in range(3,len(gg.worksheets[0]['O'])+1):#人時機時數量計算\n",
    "    if gg.worksheets[0]['O'+str(i)].value != None and re.search(r'[A-Z]\\d+\\*[A-Z]\\d+', gg.worksheets[0]['R'+str(i)].value) != None:\n",
    "        gg.worksheets[0]['Q'+str(i)].value = convert(int(gg.worksheets[0]['I'+str(i)].value*int(splittime(str(gg.worksheets[0]['O'+str(i)].value)))))\n",
    "        gg.worksheets[0]['R'+str(i)].value = convert(int(gg.worksheets[0]['I'+str(i)].value*int(splittime(str(gg.worksheets[0]['P'+str(i)].value)))))"
   ]
  },
  {
   "cell_type": "code",
   "execution_count": null,
   "id": "ea52fe02",
   "metadata": {
    "id": "ea52fe02"
   },
   "outputs": [],
   "source": [
    "#正負差\n",
    "for i in range(3,len(gg.worksheets[0]['B'])+1):\n",
    "    if gg.worksheets[0]['O'+str(i)].value != None and re.search('[\\u4e00-\\u9fa5]',gg.worksheets[0]['O'+str(i)].value) == None:\n",
    "        gg.worksheets[0]['S'+str(i)].value = splittime(gg.worksheets[0]['M'+str(i)].value) - splittime(gg.worksheets[0]['Q'+str(i)].value)\n",
    "    if gg.worksheets[0]['S'+str(i)].value != None and type(gg.worksheets[0]['S'+str(i)].value) == float:\n",
    "        if gg.worksheets[0]['S'+str(i)].value > 0:\n",
    "            gg.worksheets[0]['S'+str(i)].font = redfont\n",
    "        elif gg.worksheets[0]['S'+str(i)].value <= 0:\n",
    "            gg.worksheets[0]['S'+str(i)].font = blackfont\n",
    "        gg.worksheets[0]['S'+str(i)].value = convert(abs(int(gg.worksheets[0]['S'+str(i)].value)))"
   ]
  },
  {
   "cell_type": "code",
   "execution_count": null,
   "id": "7e9b6d60",
   "metadata": {
    "id": "7e9b6d60"
   },
   "outputs": [],
   "source": [
    "for i in range(3,len(gg.worksheets[0]['O'])+1):#正負差轉換格式並上色\n",
    "    if gg.worksheets[0]['S'+str(i)].value != None and gg.worksheets[0]['S'+str(i)].value != '校刀' and gg.worksheets[0]['S'+str(i)].value != '出庫' and gg.worksheets[0]['S'+str(i)].value != '檢驗' and gg.worksheets[0]['S'+str(i)].value != '整修' and gg.worksheets[0]['S'+str(i)].value != '特殊':\n",
    "        if type(gg.worksheets[0]['S'+str(i)].value) == int:\n",
    "            if gg.worksheets[0]['S'+str(i)].value >= 0:\n",
    "                gg.worksheets[0]['S'+str(i)].font = redfont\n",
    "            elif gg.worksheets[0]['S'+str(i)].value <= 0:\n",
    "                gg.worksheets[0]['S'+str(i)].font = blackfont\n",
    "            gg.worksheets[0]['S'+str(i)].value = convert(abs(int(gg.worksheets[0]['S'+str(i)].value)))"
   ]
  },
  {
   "cell_type": "code",
   "execution_count": 4,
   "id": "0bc74856",
   "metadata": {
    "id": "0bc74856"
   },
   "outputs": [],
   "source": [
    "gg.save('X:\\\\生管組\\\\共用\\\\2022工時明細\\\\202201~11\\\\202201~11工時明細總表1(格式轉換完成).xlsx')"
   ]
  },
  {
   "cell_type": "code",
   "execution_count": null,
   "id": "b5756574",
   "metadata": {},
   "outputs": [],
   "source": []
  }
 ],
 "metadata": {
  "colab": {
   "collapsed_sections": [],
   "provenance": []
  },
  "kernelspec": {
   "display_name": "Python 3 (ipykernel)",
   "language": "python",
   "name": "python3"
  },
  "language_info": {
   "codemirror_mode": {
    "name": "ipython",
    "version": 3
   },
   "file_extension": ".py",
   "mimetype": "text/x-python",
   "name": "python",
   "nbconvert_exporter": "python",
   "pygments_lexer": "ipython3",
   "version": "3.9.12"
  }
 },
 "nbformat": 4,
 "nbformat_minor": 5
}
